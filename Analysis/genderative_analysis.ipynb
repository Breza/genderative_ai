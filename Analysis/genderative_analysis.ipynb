{
 "cells": [
  {
   "cell_type": "markdown",
   "source": [
    "# Genderative AI"
   ],
   "metadata": {
    "collapsed": false
   },
   "id": "100e3aeb9e982dad"
  },
  {
   "cell_type": "code",
   "execution_count": 1,
   "outputs": [],
   "source": [
    "import datetime\n",
    "import hashlib\n",
    "import json\n",
    "import os\n",
    "import shutil\n",
    "import sqlite3\n",
    "from functools import cache\n",
    "from typing import Dict, List, NamedTuple, Union\n",
    "\n",
    "import PIL\n",
    "import cv2\n",
    "import matplotlib.pyplot as plt\n",
    "import matplotlib.ticker\n",
    "import numpy as np\n",
    "import polars as pl\n",
    "import seaborn as sns\n",
    "import sklearn.metrics\n",
    "import torch\n",
    "import torch.nn as nn\n",
    "import torch.optim as optim\n",
    "import torchvision\n",
    "from IPython.display import display\n",
    "from torch.utils.data import DataLoader\n",
    "from torchvision import models, transforms\n",
    "from torchvision.datasets import ImageFolder\n",
    "\n",
    "if not torch.cuda.is_available():\n",
    "    print(\"No GPU available, falling back to CPU\")"
   ],
   "metadata": {
    "collapsed": false,
    "ExecuteTime": {
     "end_time": "2024-02-01T20:22:20.559305800Z",
     "start_time": "2024-02-01T20:21:57.803858100Z"
    }
   },
   "id": "d463fb008caa33fe"
  },
  {
   "cell_type": "code",
   "outputs": [],
   "source": [
    "# Helpers\n",
    "\n",
    "# Functions\n",
    "def current_time_only(file_safe: bool = False) -> str:\n",
    "    \"\"\"\n",
    "    Returns the current time at second precision without date.\n",
    "\n",
    "    Parameters:\n",
    "    file_safe (bool): If True, returns time formatted for file naming (replaces ':' with '_').\n",
    "\n",
    "    Returns:\n",
    "    str: Current time formatted as 'HH:MM:SS' or 'DD_HH_MM_SS' if file_safe is True.\n",
    "    \"\"\"\n",
    "    if file_safe:\n",
    "        return datetime.datetime.now().strftime('%d:%H:%M:%S').replace(\":\", \"_\")\n",
    "    else:\n",
    "        return datetime.datetime.now().strftime('%H:%M:%S')\n",
    "\n",
    "\n",
    "def count_files_in_directory(path: Union[str, 'LiteralString']) -> int:\n",
    "    \"\"\"\n",
    "    Counts the number of files in a given directory.\n",
    "\n",
    "    Parameters:\n",
    "    path (Union[str, 'LiteralString']): The file path to the directory whose contents are to be counted.\n",
    "\n",
    "    Raises:\n",
    "    ValueError: If path is not a directory or does not exist.\n",
    "\n",
    "    Returns:\n",
    "    int: The number of files in the specified directory.\n",
    "    \"\"\"\n",
    "    if not os.path.isdir(path):\n",
    "        raise ValueError(f\"{path} is not a directory.\")\n",
    "    return len(os.listdir(path))\n",
    "\n",
    "\n",
    "def move_duplicate_files() -> list:\n",
    "    \"\"\"\n",
    "    Identify and remove duplicate images.\n",
    "    \n",
    "    Sometimes it's possible that a given image being added to the training set has already been added, either to the same folder or to the validation folder. This can happen through user error or random chance. This function hashes all image files in the training and holdout folders, looks for duplicates, and moves the files.\n",
    "    \n",
    "    Note: Do not look for duplicates in the Unlabeled folder. Unlabeled images with low confidence are manually classified and copied into the training folder to improve model accuracy in future runs.\n",
    "    \n",
    "    :return: A list of file paths that were moved. The function's primary activity occurs via side effects.\n",
    "    \"\"\"\n",
    "    file_path_list = []\n",
    "    file_hash_data = pl.DataFrame(schema={\"file_path\": str, \"file_hash\": str})\n",
    "\n",
    "    for outer_dir in [\"Labeled\", \"Holdout\"]:\n",
    "        for inner_dir in [\"Female\", \"Male\"]:\n",
    "            dir_path = os.path.join(data_dir, outer_dir, inner_dir)\n",
    "            if not os.path.exists(dir_path):\n",
    "                raise FileNotFoundError(\n",
    "                    f\"Directory does not exist: {dir_path}\"\n",
    "                )\n",
    "\n",
    "            with os.scandir(dir_path) as entries:\n",
    "                for entry in entries:\n",
    "                    file_path_list.append(entry.path)\n",
    "                    hasher = hashlib.sha512()\n",
    "                    with open(entry.path, 'rb') as file_entry:\n",
    "                        content = file_entry.read()\n",
    "                        hasher.update(content)\n",
    "                        this_entry_hash = hasher.hexdigest()\n",
    "                        file_hash_data = pl.concat(\n",
    "                            [file_hash_data, pl.DataFrame({\"file_path\": entry.path, \"file_hash\": this_entry_hash})])\n",
    "\n",
    "    dupe_file_paths = list(set(file_hash_data.to_series().to_list()) - set(\n",
    "        file_hash_data.sort(\"file_path\").group_by(\"file_hash\").last().select(\n",
    "            \"file_path\").to_series().to_list()))\n",
    "    for this_file_path in dupe_file_paths:\n",
    "        os.replace(this_file_path, os.path.join(data_dir, \"working_folder/temp\", os.path.basename(this_file_path)))\n",
    "    if len(dupe_file_paths) > 0:\n",
    "        print(f\"Moved {len(dupe_file_paths)} duplicate files\")\n",
    "    else:\n",
    "        print(\"No duplicate files found\")\n",
    "    return dupe_file_paths\n",
    "\n",
    "\n",
    "def get_dataset_structure_hash() -> str:\n",
    "    \"\"\"\n",
    "    Get list of all training and holdout files. Uses data_dir to define base directory.\n",
    "\n",
    "    Returns:\n",
    "    str: SHA512 hash of the file names of all training and holdout files.\n",
    "    \"\"\"\n",
    "    file_path_list = []\n",
    "\n",
    "    for outer_dir in [\"Labeled\", \"Holdout\"]:\n",
    "        for inner_dir in [\"Female\", \"Male\"]:\n",
    "            dir_path = os.path.join(data_dir, outer_dir, inner_dir)\n",
    "\n",
    "            if not os.path.exists(dir_path):\n",
    "                raise FileNotFoundError(\n",
    "                    f\"Directory does not exist: {dir_path}\"\n",
    "                )\n",
    "\n",
    "            with os.scandir(dir_path) as entries:\n",
    "                for entry in entries:\n",
    "                    file_path_list.append(entry.path)\n",
    "    file_path_list.sort()\n",
    "    file_path_list = \"\".join(file_path_list)\n",
    "    file_path_list_hash = hashlib.sha512(file_path_list.encode()).hexdigest()\n",
    "    return file_path_list_hash\n",
    "\n",
    "\n",
    "def plot_training_progress(train_acc: list,\n",
    "                           train_loss: list,\n",
    "                           val_acc: list,\n",
    "                           validation_loss: list,\n",
    "                           title=\"Model results\"):\n",
    "    \"\"\"\n",
    "    Plot training-vs-testing accuracy and loss for each epoch.\n",
    "    \n",
    "    Parameters:\n",
    "        train_acc (list): List of training accuracy values from each epoch, must be same length as val_acc\n",
    "        train_loss (list): List of training loss values from each epoch, must be same length as val_loss\n",
    "        val_acc (list): List of validation accuracy values from each epoch, must be same length as train_acc\n",
    "        validation_loss (list): List of validation loss values from each epoch, must be same length as train_loss\n",
    "        title (str): Plot title\n",
    "    \n",
    "    Raises:\n",
    "        ValueError: If the lengths of accuracy or loss lists don't match each other\n",
    "    \"\"\"\n",
    "    if not (len(train_acc) == len(val_acc) and len(train_loss) == len(validation_loss)) and len(train_acc) > 0 and len(\n",
    "            train_loss) > 0:\n",
    "        raise ValueError(\"Lengths of training and validation lists must match\")\n",
    "    fig, axs = plt.subplots(1, 2, figsize=(12, 5))\n",
    "\n",
    "    axs[0].plot(train_acc,\n",
    "                label=\"Training accuracy\",\n",
    "                color=train_color,\n",
    "                linewidth=3)\n",
    "    axs[0].plot(val_acc,\n",
    "                label=\"Validation accuracy\",\n",
    "                color=val_color,\n",
    "                linewidth=3)\n",
    "    axs[0].set_title(\"Accuracy\")\n",
    "    axs[0].legend()\n",
    "\n",
    "    axs[1].plot(train_loss,\n",
    "                label=\"Training loss\",\n",
    "                color=train_color,\n",
    "                linewidth=3)\n",
    "    axs[1].plot(validation_loss,\n",
    "                label=\"Validation loss\",\n",
    "                color=val_color,\n",
    "                linewidth=3)\n",
    "    axs[1].set_title(\"Loss\")\n",
    "    axs[1].set(ylim=(0, None))\n",
    "    axs[1].legend()\n",
    "\n",
    "    fig.suptitle(title, fontsize=14, fontweight='bold')\n",
    "\n",
    "    plt.tight_layout()\n",
    "    plt.show()\n",
    "\n",
    "\n",
    "def add_occupation(image_data_frame: pl.DataFrame) -> pl.DataFrame:\n",
    "    \"\"\"\n",
    "    Adds an 'occupation' column to the DataFrame by first neutralizing gender-specific terms \n",
    "    in the 'file_path' column and then extracting the occupation.\n",
    "\n",
    "    The function first removes 'female_' or 'male_' from the 'file_path', then assumes that \n",
    "    the occupation is embedded in the modified file path string, following a specific pattern \n",
    "    (fourth underscore-separated value after removal of gender terms).\n",
    "\n",
    "    If an occupation is not found (null value), it prints a warning with the file path.\n",
    "\n",
    "    Parameters:\n",
    "    image_data_frame (pl.DataFrame): A DataFrame with a column named 'file_path'.\n",
    "\n",
    "    Returns:\n",
    "    pl.DataFrame: The original DataFrame with an added 'occupation' column.\n",
    "\n",
    "    Raises:\n",
    "    ValueError: If the 'file_path' column does not exist in the DataFrame.\n",
    "    \"\"\"\n",
    "    if 'file_path' not in image_data_frame.columns:\n",
    "        raise ValueError(\"The DataFrame must contain a 'file_path' column.\")\n",
    "\n",
    "    image_data_frame = image_data_frame.with_columns([\n",
    "        pl.col(\"file_path\")\n",
    "        .str.replace(pattern=\"(female_|male_)\", value=\"\")\n",
    "        .map_elements(lambda x: x.split(\".jpeg\")[0] if \".jpeg\" in x else x)\n",
    "        .str.extract(\"(?:[^_]*_){4}([^_]*)_\")\n",
    "        .str.replace(\"dietitian\", \"nutritionist\")\n",
    "        .alias(\"occupation\")\n",
    "    ])\n",
    "\n",
    "    # Check for null occupations and print warning\n",
    "    for row in image_data_frame.filter(pl.col(\"occupation\").is_null()).to_dicts():\n",
    "        print(f\"Warning: Null occupation found for file path: {row['file_path']}\")\n",
    "\n",
    "    return image_data_frame\n",
    "\n",
    "\n",
    "def label_images(csv_file: str, output_file: str):\n",
    "    \"\"\"\n",
    "    Reads images from a specified CSV file and allows the user to label them interactively.\n",
    "\n",
    "    This function opens each image specified in the CSV file and displays it to the user. \n",
    "    The user can then label the image as 'Female', 'Male', or 'Discard' by pressing the corresponding \n",
    "    keys ('f', 'm', 'd' or '0', '1', '2'). The function logs the user's decision along with the image \n",
    "    path and writes this data to an output file.\n",
    "\n",
    "    Parameters:\n",
    "    csv_file (str): Path to the CSV file containing the paths of the images to be labeled.\n",
    "    output_file (str): Path to the output CSV file where the image paths and labels will be saved.\n",
    "\n",
    "    Raises:\n",
    "    ValueError: If a key pressed is not among the specified keys ('f', 'm', 'd', '0', '1', '2').\n",
    "\n",
    "    Notes:\n",
    "    The function adds a text overlay to each image before displaying it, which indicates the keys \n",
    "    for labeling. If an image cannot be read, it logs the path with the label \"ERROR\".\n",
    "    \"\"\"\n",
    "    image_labels = []\n",
    "    image_files = pl.read_csv(csv_file).to_series().to_list()\n",
    "    image_files_length = len(image_files)\n",
    "\n",
    "    for image_path in image_files:\n",
    "        image = cv2.imread(image_path)\n",
    "        if image is not None:\n",
    "            cv2.putText(image, \"'F'emale, 'M'ale, 'D'iscard\", (10, 30),\n",
    "                        cv2.FONT_HERSHEY_SIMPLEX, 1, (255, 255, 255), 2, cv2.LINE_AA)\n",
    "            cv2.imshow(\"Image\", image)\n",
    "\n",
    "            key = cv2.waitKey(0)  # Wait for a key press\n",
    "            if key == ord('0') or key == ord('f'):\n",
    "                image_labels.append((image_path, \"Female\"))\n",
    "            elif key == ord('1') or key == ord('m'):\n",
    "                image_labels.append((image_path, \"Male\"))\n",
    "            elif key == ord('2') or key == ord('d'):\n",
    "                image_labels.append((image_path, \"Discard\"))\n",
    "            else:\n",
    "                raise ValueError(\"Only allowed values are 0, 1, 2, f, m, and d\")\n",
    "            image_index = image_files.index(image_path) + 1\n",
    "            print(f\"Image {image_index}/{image_files_length} classified as {chr(key)}\")\n",
    "\n",
    "            cv2.destroyAllWindows()\n",
    "        else:\n",
    "            print(f\"Could not read image: {image_path}\")\n",
    "            image_labels.append((image_path, \"ERROR\"))\n",
    "\n",
    "    with open(output_file, 'w') as f:\n",
    "        for item in image_labels:\n",
    "            f.write(f\"{item[0]},{item[1]}\\n\")\n",
    "\n",
    "\n",
    "@cache\n",
    "def calculate_normalization(custom_normalization: bool, hash_value: str) -> Dict[str, List[float]]:\n",
    "    \"\"\"\n",
    "    Calculates the mean and standard deviation of the dataset for normalization.\n",
    "\n",
    "    Parameters:\n",
    "    custom_normalization (bool): Determines if custom normalization values are to be calculated.\n",
    "    hash_value (str): The hash value of the dataset structure. Used for cache invalidation.\n",
    "\n",
    "    Returns:\n",
    "    Dict[str, List[float]]: A dictionary containing 'mean' and 'std', each a list of three floats.\n",
    "\n",
    "    Notes:\n",
    "    Function uses global variables batch_size and data_dir.\n",
    "    \"\"\"\n",
    "    # No-op to satisfy IDE checks\n",
    "    _ = len(hash_value)\n",
    "\n",
    "    if custom_normalization:\n",
    "        this_con = sqlite3.connect(\"genderative_ai_database.db\")\n",
    "        this_cur = this_con.cursor()\n",
    "        this_cur.execute(\"SELECT mean, std FROM normalization_cache WHERE hash_value = ?\", (hash_value,))\n",
    "        cached_result = this_cur.fetchone()\n",
    "        if cached_result:\n",
    "            normalization_dict = {'mean': json.loads(cached_result[0]), 'std': json.loads(cached_result[1])}\n",
    "        else:\n",
    "            unnormalized_dataset = ImageFolder(os.path.join(data_dir, 'Labeled'), transform=tensor_transform)\n",
    "            unnormalized_loader = DataLoader(unnormalized_dataset, batch_size=batch_size, shuffle=True)\n",
    "\n",
    "            def calculate_mean_std(loader: DataLoader) -> (torch.Tensor, torch.Tensor):\n",
    "                \"\"\"\n",
    "                Calculate the mean and standard deviation of images in a DataLoader.\n",
    "            \n",
    "                Parameters:\n",
    "                loader (DataLoader): The DataLoader containing the dataset.\n",
    "            \n",
    "                Returns:\n",
    "                Tuple[torch.Tensor, torch.Tensor]: Mean and standard deviation tensors.\n",
    "                \"\"\"\n",
    "                mean_accumulator = 0.0\n",
    "                variance_accumulator = 0.0\n",
    "                for images, _ in loader:\n",
    "                    batch_samples = images.size(0)\n",
    "                    images = images.view(batch_samples, images.size(1), -1)\n",
    "                    mean_accumulator += images.mean(2).sum(0)\n",
    "                    variance_accumulator += images.var(2).sum(0)\n",
    "\n",
    "                mean_accumulator /= len(loader.dataset)\n",
    "                std_deviation = torch.sqrt(variance_accumulator / len(loader.dataset))\n",
    "                return mean_accumulator, std_deviation\n",
    "\n",
    "            dataset_mean, dataset_std = calculate_mean_std(unnormalized_loader)\n",
    "            normalization_dict = {'mean': dataset_mean.tolist(), 'std': dataset_std.tolist()}\n",
    "            # Store the new result in the cache\n",
    "            this_cur.execute(\"INSERT INTO normalization_cache (hash_value, mean, std) VALUES (?, ?, ?)\",\n",
    "                             (\n",
    "                             hash_value, json.dumps(normalization_dict['mean']), json.dumps(normalization_dict['std'])))\n",
    "            this_con.commit()\n",
    "            del unnormalized_dataset, unnormalized_loader\n",
    "            print(f\"Custom normalization values: {normalization_dict}\")\n",
    "    else:\n",
    "        normalization_dict = {'mean': [0.485, 0.456, 0.406], 'std': [0.229, 0.224, 0.225]}\n",
    "        print(\"Standard normalization values used\")\n",
    "    return normalization_dict\n",
    "\n",
    "\n",
    "def display_images_from_dataloader(dataloader: DataLoader, num_images: int = 8):\n",
    "    \"\"\"\n",
    "    Fetches a batch of images from the given DataLoader and displays them to user.\n",
    "    \n",
    "    Parameters:\n",
    "    dataloader (DataLoader): A PyTorch DataLoader object from which to fetch the images.\n",
    "    num_images (int): The number of images to display from the batch.\n",
    "    \"\"\"\n",
    "\n",
    "    def imshow(img: torch.Tensor):\n",
    "        \"\"\"\n",
    "        Display an image by denormalizing and clipping its values.\n",
    "\n",
    "        This function takes a PyTorch tensor representing a grid of images, which have been normalized \n",
    "        previously, and performs denormalization to convert them back to their original color \n",
    "        space. It then clips the image values to be within the range [0, 1] to ensure \n",
    "        proper display. The image is displayed using matplotlib.\n",
    "\n",
    "        Parameters:\n",
    "        img (torch.Tensor): A PyTorch tensor representing a grid of images.\n",
    "        \"\"\"\n",
    "        img = img.numpy().transpose((1, 2, 0))\n",
    "        img = normalization_values['std'] * img + normalization_values['mean']  # Denormalize\n",
    "        img = np.clip(img, 0, 1)  # Clip values to be between 0 and 1\n",
    "        plt.imshow(img)\n",
    "        plt.xticks([])\n",
    "        plt.yticks([])\n",
    "        plt.show()\n",
    "\n",
    "    num_images = min(batch_size, num_images)\n",
    "    dataset_images, dataset_labels = next(iter(dataloader))\n",
    "    images_subset = dataset_images[:num_images]\n",
    "    imshow(torchvision.utils.make_grid(images_subset))\n",
    "    print(' '.join(f'{classes[dataset_labels[j]]:5s}' for j in range(num_images)))\n",
    "\n",
    "\n",
    "def predict_model_resnet(my_dataloader):\n",
    "    \"\"\"\n",
    "    Performs predictions using a ResNet model on a given dataloader.\n",
    "    \n",
    "    This function runs the ResNet model in evaluation mode and generates predictions for the input data. \n",
    "    It requires the dataloader to have a batch size of exactly 1. The function outputs a dataframe \n",
    "    with file paths, actual labels, predicted labels, probabilities of being female, and a flag indicating \n",
    "    correct predictions.\n",
    "    \n",
    "    Note: The sorting logic in the function is based on the condition of correct predictions and their confidence scores.\n",
    "    \n",
    "    Parameters:\n",
    "    my_dataloader (Dataloader): A PyTorch Dataloader object containing the data to be predicted. \n",
    "                                 The dataloader must have a batch size of 1.\n",
    "    \n",
    "    Raises:\n",
    "    ValueError: If the dataloader's batch size is not 1.\n",
    "    \n",
    "    Returns:\n",
    "    Polars.DataFrame: A dataframe containing columns for file paths, labels, predictions, \n",
    "                      probabilities, and correct predictions.\n",
    "    \"\"\"\n",
    "    if my_dataloader.batch_size != 1:\n",
    "        raise ValueError(\"Predictions dataloader requires batch size of exactly 1\")\n",
    "    model_resnet.eval()\n",
    "    prediction_results = pl.DataFrame(schema={\"file_path\": str, \"label\": int, \"prediction\": int, \"prob_female\": float})\n",
    "    with torch.no_grad():\n",
    "        for i, (inputs, labels) in enumerate(my_dataloader):\n",
    "            inputs, labels = inputs.to(device), labels.to(device)\n",
    "            outputs = model_resnet(inputs)\n",
    "            _, predicted = torch.max(outputs.data, 1)\n",
    "            prob_female = torch.nn.functional.softmax(outputs, dim=1)[:, 0].tolist()\n",
    "            predicted = predicted.tolist()\n",
    "            labels = labels.tolist()\n",
    "            file_paths = my_dataloader.dataset.samples[i][0]\n",
    "            batch_results = pl.DataFrame({\"file_path\": file_paths,\n",
    "                                          \"label\": labels,\n",
    "                                          \"prediction\": predicted,\n",
    "                                          \"prob_female\": prob_female})\n",
    "            prediction_results = pl.concat([prediction_results, batch_results], how=\"vertical_relaxed\")\n",
    "        prediction_results = prediction_results.with_columns(\n",
    "            (1 * (pl.col(\"label\") == pl.col(\"prediction\"))).alias(\"correct_prediction\")\n",
    "        )\n",
    "        # I couldn't figure out the sorting logic so I asked SO\n",
    "        # https://stackoverflow.com/questions/77700489/how-to-perform-a-conditional-sort-in-polars/77700711\n",
    "        prediction_results = prediction_results.with_columns(\n",
    "            abs(pl.col(\"prob_female\") - 0.5).alias(\"confidence\")\n",
    "        ).sort([\n",
    "            (good_prediction := pl.col('label').eq(pl.col('prediction'))),\n",
    "            (good_prediction - 1) * pl.col('confidence'),\n",
    "            pl.col('confidence')\n",
    "        ])\n",
    "        return prediction_results\n",
    "\n",
    "\n",
    "def move_image(file_path, new_folder) -> None:\n",
    "    \"\"\"\n",
    "    Move image located at file_path to new_folder.\n",
    "    \n",
    "    :param file_path: Location of file to be moved.\n",
    "    :param new_folder: Folder where you want the file to be moved.\n",
    "    :return: None\n",
    "    \"\"\"\n",
    "    new_path = os.path.join(data_dir, new_folder, os.path.basename(file_path))\n",
    "    os.makedirs(os.path.dirname(new_path), exist_ok=True)\n",
    "    try:\n",
    "        shutil.move(file_path, new_path)\n",
    "        print(f\"File {file_path} successfully moved to {new_folder}\")\n",
    "        with open(\"file_move_history.txt\", 'a') as f:\n",
    "            f.write(f\"{file_path}\\n\")\n",
    "    except FileNotFoundError as e:\n",
    "        print(f\"File not found: {file_path}: {e}\")\n",
    "    except PermissionError as e:\n",
    "        print(f\"Permission error: {file_path}: {e}\")\n",
    "\n",
    "\n",
    "def move_labeled_images(image_label_dataframe_path: str = \"labels.csv\"):\n",
    "    image_label_dataframe = pl.read_csv(image_label_dataframe_path,\n",
    "                                        has_header=False,\n",
    "                                        new_columns=[\"file_path\", \"gender\"],\n",
    "                                        schema={\"file_path\": pl.Utf8, \"gender\": pl.Utf8}).with_columns(\n",
    "        # Only allow the three valid image labels\n",
    "        pl.col(\"gender\").cast(pl.Enum(categories=[\"Female\", \"Male\", \"Discard\"]))\n",
    "    )\n",
    "\n",
    "    for row in image_label_dataframe.iter_rows():\n",
    "        file_path, label = row\n",
    "        sub_folder = file_path.replace(data_dir, \"\", 1).strip(os.sep).split(os.sep)[0].lstrip()\n",
    "        sub_folder = data_dir + sub_folder\n",
    "        destination_folder = os.path.join(sub_folder, label)\n",
    "        current_folder = os.path.dirname(file_path)\n",
    "        # Check if the current folder is the same as the destination folder\n",
    "        if current_folder != destination_folder:\n",
    "            if os.path.isfile(file_path):\n",
    "                move_image(file_path, destination_folder)\n",
    "            else:\n",
    "                print(f\"Image not found: {file_path}\")\n",
    "        else:\n",
    "            print(f\"File is already in the correct folder: {file_path}\")\n",
    "            with open(\"file_move_history.txt\", 'a') as f:\n",
    "                f.write(f\"{file_path}\\n\")\n",
    "\n",
    "\n",
    "def get_occupation_counts() -> pl.DataFrame:\n",
    "    \"\"\"Gets occupation count breakdown by gender for labeled and holdout data.\n",
    "    \n",
    "    This function walks through the labeled and holdout image subfolders, extracts \n",
    "    the occupation from the file path, and aggregates a count by occupation and \n",
    "    gender. It then pivots the data to compare female and male counts by occupation.\n",
    "    \n",
    "    The output DataFrame contains:\n",
    "    - subfolder: Labeled or Holdout \n",
    "    - Occupation\n",
    "    - Count by gender\n",
    "    - Absolute difference in counts\n",
    "    - Percent difference \n",
    "    \n",
    "    Returns:\n",
    "    pl.DataFrame: Breakdown of occupation counts by gender for labeled and holdout data.\n",
    "    \"\"\"\n",
    "    subfolder_gender_occupation_count = pl.DataFrame(\n",
    "        schema={\"directory\": str, \"subfolder\": str, \"gender\": str, \"occupation\": str}\n",
    "    )\n",
    "\n",
    "    for this_subfolder in [\"labeled\", \"holdout\"]:\n",
    "        for this_gender in [\"female\", \"male\"]:\n",
    "            for root, dirs, files in os.walk(\n",
    "                    os.path.join(data_dir, this_subfolder, this_gender)\n",
    "            ):\n",
    "                if len(files) == 0:\n",
    "                    raise ValueError(f\"Empty directory: {root}\")\n",
    "                root = str(root).replace(data_dir, \"\", 1)\n",
    "                subfolder_gender_occupation_count.extend(\n",
    "                    add_occupation(\n",
    "                        pl.DataFrame(\n",
    "                            {\n",
    "                                \"directory\": [root] * len(files),\n",
    "                                \"subfolder\": [this_subfolder] * len(files),\n",
    "                                \"gender\": [this_gender] * len(files),\n",
    "                                \"file_path\": files,\n",
    "                            }\n",
    "                        )\n",
    "                    )\n",
    "                    .drop(\"file_path\")\n",
    "                    .sort([\"directory\", \"occupation\"])\n",
    "                )\n",
    "    subfolder_gender_occupation_summary = (\n",
    "        subfolder_gender_occupation_count.group_by(\n",
    "            [\"directory\", \"subfolder\", \"gender\", \"occupation\"]\n",
    "        )\n",
    "        .agg(pl.count())\n",
    "        .sort([\"directory\", \"occupation\"])\n",
    "    ).with_columns(\n",
    "        pl.col(\"count\").cast(pl.Int32)\n",
    "    )\n",
    "\n",
    "    subfolder_gender_occupation_summary = (subfolder_gender_occupation_summary.pivot(\n",
    "        values=\"count\",\n",
    "        index=[\"subfolder\", \"occupation\"],\n",
    "        columns=\"gender\",\n",
    "        aggregate_function=None\n",
    "    ))\n",
    "\n",
    "    return (subfolder_gender_occupation_summary.with_columns(\n",
    "        abs(pl.col(\"male\").sub(pl.col(\"female\"))).alias(\"gender_difference\")\n",
    "    ).with_columns(\n",
    "        pl.col(\"gender_difference\").truediv((pl.col(\"female\").add(pl.col(\"male\")))).alias(\"gender_difference_pct\"))\n",
    "    ).sort([\"subfolder\", \"gender_difference_pct\", \"gender_difference\", \"female\"], descending=True)\n",
    "\n",
    "\n",
    "def calculate_metrics(subset_df: pl.DataFrame) -> pl.DataFrame:\n",
    "    \"\"\"Calculates model evaluation metrics on a subset of predictions.\n",
    "    \n",
    "    This function takes a DataFrame containing ground truth labels, predictions,\n",
    "    and predicted probabilities. It calculates a suite of common classification\n",
    "    evaluation metrics.\n",
    "    \n",
    "    The metrics calculated are:\n",
    "    - Accuracy\n",
    "    - ROC AUC\n",
    "    - Precision\n",
    "    - Recall\n",
    "    - F1 Score\n",
    "    - Matthews Correlation Coefficient\n",
    "    - Cohen's Kappa\n",
    "    - PR AUC\n",
    "    - Brier Score\n",
    "    - Hamming Loss\n",
    "    - Jaccard Loss\n",
    "    - Number of samples\n",
    "    \n",
    "    Parameters:\n",
    "    subset_df (pl.DataFrame): DataFrame with columns for labels, predictions, probabilities\n",
    "    \n",
    "    Returns:\n",
    "    pl.DataFrame: DataFrame containing metric values, along with the occupation\n",
    "    \"\"\"\n",
    "    y_true = subset_df['label']\n",
    "    y_pred = subset_df['prediction']\n",
    "    y_prob = subset_df['prob_male']\n",
    "\n",
    "    this_occupation = subset_df['occupation'].unique()\n",
    "    if len(this_occupation) > 1:\n",
    "        this_occupation = \"OVERALL\"\n",
    "\n",
    "    accuracy = sklearn.metrics.accuracy_score(y_true, y_pred)\n",
    "    roc_auc = sklearn.metrics.roc_auc_score(y_true, y_prob)\n",
    "    precision = sklearn.metrics.precision_score(y_true, y_pred)\n",
    "    recall = sklearn.metrics.recall_score(y_true, y_pred)\n",
    "    f1_score = sklearn.metrics.f1_score(y_true, y_pred)\n",
    "    matthews_corrcoef = sklearn.metrics.matthews_corrcoef(y_true, y_pred)\n",
    "    cohen_kappa = sklearn.metrics.cohen_kappa_score(y_true, y_pred)\n",
    "    precision_curve, recall_curve, _ = sklearn.metrics.precision_recall_curve(y_true, y_prob)\n",
    "    pr_auc = sklearn.metrics.auc(recall_curve, precision_curve)\n",
    "    brier_score = sklearn.metrics.brier_score_loss(y_true, y_prob)\n",
    "    hamming_loss = sklearn.metrics.hamming_loss(y_true, y_pred)\n",
    "    jaccard_loss = 1 - sklearn.metrics.jaccard_score(y_true, y_pred)\n",
    "    n_samples = subset_df.shape[0]\n",
    "\n",
    "    return pl.DataFrame({\n",
    "        \"occupation\": this_occupation,\n",
    "        \"accuracy\": accuracy,\n",
    "        \"roc_auc\": roc_auc,\n",
    "        \"precision\": precision,\n",
    "        \"recall\": recall,\n",
    "        \"f1_score\": f1_score,\n",
    "        \"matthews_corrcoef\": matthews_corrcoef,\n",
    "        \"cohen_kappa\": cohen_kappa,\n",
    "        \"pr_auc\": pr_auc,\n",
    "        \"brier_score\": brier_score,\n",
    "        \"hamming_loss\": hamming_loss,\n",
    "        \"jaccard_loss\": jaccard_loss,\n",
    "        \"n\": n_samples\n",
    "    })\n",
    "\n",
    "\n",
    "# Helper classes\n",
    "class ImbalancedClassesException(ValueError):\n",
    "    \"\"\"Exception raised when classes must be perfectly balanced and are not.\"\"\"\n",
    "\n",
    "\n",
    "class Colors(NamedTuple):\n",
    "    train: str\n",
    "    val: str\n",
    "    unlabeled: str"
   ],
   "metadata": {
    "collapsed": false,
    "ExecuteTime": {
     "end_time": "2024-02-01T20:25:25.949516600Z",
     "start_time": "2024-02-01T20:25:25.850477500Z"
    }
   },
   "id": "e06b185676f25570",
   "execution_count": 10
  },
  {
   "cell_type": "code",
   "outputs": [],
   "source": [
    "# Config variables\n",
    "colors = Colors(train=\"#ff130f\", val=\"#7fff0f\", unlabeled=\"#0fefff\")\n",
    "train_color = colors.train\n",
    "val_color = colors.val\n",
    "unlabeled_color = colors.unlabeled\n",
    "\n",
    "data_dir: str = 'H:/Photos/AI/'\n",
    "batch_size: int = 30\n",
    "classes: tuple[str, str] = ('Female', 'Male')\n",
    "use_custom_normalization: bool = True\n",
    "num_epochs: int = 5"
   ],
   "metadata": {
    "collapsed": false,
    "ExecuteTime": {
     "end_time": "2024-02-01T20:25:26.872156200Z",
     "start_time": "2024-02-01T20:25:26.848152100Z"
    }
   },
   "id": "eea0dee7aad1787",
   "execution_count": 11
  },
  {
   "cell_type": "code",
   "outputs": [
    {
     "name": "stdout",
     "output_type": "stream",
     "text": [
      "No duplicate files found\n"
     ]
    }
   ],
   "source": [
    "dataset_structure_hash = get_dataset_structure_hash()\n",
    "moved_file_path_list = move_duplicate_files()"
   ],
   "metadata": {
    "collapsed": false,
    "ExecuteTime": {
     "end_time": "2024-02-01T20:23:39.498436900Z",
     "start_time": "2024-02-01T20:22:20.630973500Z"
    }
   },
   "id": "560270e450cdff61",
   "execution_count": 4
  },
  {
   "cell_type": "code",
   "execution_count": 12,
   "id": "dc29b10a77bd6120",
   "metadata": {
    "collapsed": false,
    "ExecuteTime": {
     "end_time": "2024-02-01T20:25:30.666269Z",
     "start_time": "2024-02-01T20:25:30.423952600Z"
    }
   },
   "outputs": [
    {
     "data": {
      "text/plain": "<Figure size 640x480 with 1 Axes>",
      "image/png": "[encoded data removed]"
     },
     "metadata": {},
     "output_type": "display_data"
    }
   ],
   "source": [
    "file_counts = {category: {gender: count_files_in_directory(\n",
    "    os.path.join(data_dir, category, gender))\n",
    "    for gender in classes}\n",
    "    for category in ['Labeled', 'Holdout']}\n",
    "file_counts.update({'Unlabeled': count_files_in_directory(os.path.join(data_dir, \"Unlabeled/Unlabeled\"))})\n",
    "\n",
    "fig, ax = plt.subplots()\n",
    "ax.bar(['Training\\nFemale', 'Training\\nMale',\n",
    "        'Holdout\\nFemale', 'Holdout\\nMale',\n",
    "        'Unlabeled'],\n",
    "       [file_counts['Labeled']['Female'],\n",
    "        file_counts['Labeled']['Male'],\n",
    "        file_counts['Holdout']['Female'],\n",
    "        file_counts['Holdout']['Male'],\n",
    "        file_counts['Unlabeled']],\n",
    "       color=[train_color, train_color, val_color, val_color, unlabeled_color])\n",
    "plt.xticks(rotation=45)\n",
    "plt.title(\"Training and validation image counts\")\n",
    "plt.show()\n",
    "\n",
    "if file_counts['Labeled']['Female'] != file_counts['Labeled']['Male']:\n",
    "    female_count = file_counts['Labeled']['Female']\n",
    "    male_count = file_counts['Labeled']['Male']\n",
    "    raise ImbalancedClassesException(\n",
    "        f'Imbalance detected: {female_count} female images vs {male_count} male images')"
   ]
  },
  {
   "cell_type": "code",
   "outputs": [
    {
     "data": {
      "text/plain": "shape: (42, 6)\n┌───────────┬──────────────┬────────┬──────┬───────────────────┬───────────────────────┐\n│ subfolder ┆ occupation   ┆ female ┆ male ┆ gender_difference ┆ gender_difference_pct │\n│ ---       ┆ ---          ┆ ---    ┆ ---  ┆ ---               ┆ ---                   │\n│ str       ┆ str          ┆ i32    ┆ i32  ┆ i32               ┆ f64                   │\n╞═══════════╪══════════════╪════════╪══════╪═══════════════════╪═══════════════════════╡\n│ labeled   ┆ nurse        ┆ 2722   ┆ 2722 ┆ 0                 ┆ 0.0                   │\n│ labeled   ┆ pharmacist   ┆ 2557   ┆ 2557 ┆ 0                 ┆ 0.0                   │\n│ labeled   ┆ doctor       ┆ 2457   ┆ 2457 ┆ 0                 ┆ 0.0                   │\n│ labeled   ┆ nutritionist ┆ 1334   ┆ 1334 ┆ 0                 ┆ 0.0                   │\n│ …         ┆ …            ┆ …      ┆ …    ┆ …                 ┆ …                     │\n│ holdout   ┆ paramedic    ┆ 318    ┆ 318  ┆ 0                 ┆ 0.0                   │\n│ holdout   ┆ psychologist ┆ 305    ┆ 305  ┆ 0                 ┆ 0.0                   │\n│ holdout   ┆ dentist      ┆ 263    ┆ 263  ┆ 0                 ┆ 0.0                   │\n│ holdout   ┆ phlebotomist ┆ 214    ┆ 214  ┆ 0                 ┆ 0.0                   │\n└───────────┴──────────────┴────────┴──────┴───────────────────┴───────────────────────┘",
      "text/html": "<div><style>\n.dataframe > thead > tr,\n.dataframe > tbody > tr {\n  text-align: right;\n  white-space: pre-wrap;\n}\n</style>\n<small>shape: (42, 6)</small><table border=\"1\" class=\"dataframe\"><thead><tr><th>subfolder</th><th>occupation</th><th>female</th><th>male</th><th>gender_difference</th><th>gender_difference_pct</th></tr><tr><td>str</td><td>str</td><td>i32</td><td>i32</td><td>i32</td><td>f64</td></tr></thead><tbody><tr><td>&quot;labeled&quot;</td><td>&quot;nurse&quot;</td><td>2722</td><td>2722</td><td>0</td><td>0.0</td></tr><tr><td>&quot;labeled&quot;</td><td>&quot;pharmacist&quot;</td><td>2557</td><td>2557</td><td>0</td><td>0.0</td></tr><tr><td>&quot;labeled&quot;</td><td>&quot;doctor&quot;</td><td>2457</td><td>2457</td><td>0</td><td>0.0</td></tr><tr><td>&quot;labeled&quot;</td><td>&quot;nutritionist&quot;</td><td>1334</td><td>1334</td><td>0</td><td>0.0</td></tr><tr><td>&quot;labeled&quot;</td><td>&quot;paramedic&quot;</td><td>1007</td><td>1007</td><td>0</td><td>0.0</td></tr><tr><td>&quot;labeled&quot;</td><td>&quot;social&quot;</td><td>852</td><td>852</td><td>0</td><td>0.0</td></tr><tr><td>&quot;labeled&quot;</td><td>&quot;veterinarian&quot;</td><td>764</td><td>764</td><td>0</td><td>0.0</td></tr><tr><td>&quot;labeled&quot;</td><td>&quot;psychologist&quot;</td><td>574</td><td>574</td><td>0</td><td>0.0</td></tr><tr><td>&quot;labeled&quot;</td><td>&quot;dentist&quot;</td><td>564</td><td>564</td><td>0</td><td>0.0</td></tr><tr><td>&quot;labeled&quot;</td><td>&quot;chiropractor&quot;</td><td>559</td><td>559</td><td>0</td><td>0.0</td></tr><tr><td>&quot;labeled&quot;</td><td>&quot;black&quot;</td><td>542</td><td>542</td><td>0</td><td>0.0</td></tr><tr><td>&quot;labeled&quot;</td><td>&quot;phlebotomist&quot;</td><td>500</td><td>500</td><td>0</td><td>0.0</td></tr><tr><td>&hellip;</td><td>&hellip;</td><td>&hellip;</td><td>&hellip;</td><td>&hellip;</td><td>&hellip;</td></tr><tr><td>&quot;labeled&quot;</td><td>&quot;plumber&quot;</td><td>50</td><td>50</td><td>0</td><td>0.0</td></tr><tr><td>&quot;holdout&quot;</td><td>&quot;doctor&quot;</td><td>852</td><td>852</td><td>0</td><td>0.0</td></tr><tr><td>&quot;holdout&quot;</td><td>&quot;pharmacist&quot;</td><td>780</td><td>780</td><td>0</td><td>0.0</td></tr><tr><td>&quot;holdout&quot;</td><td>&quot;nurse&quot;</td><td>718</td><td>718</td><td>0</td><td>0.0</td></tr><tr><td>&quot;holdout&quot;</td><td>&quot;nutritionist&quot;</td><td>667</td><td>667</td><td>0</td><td>0.0</td></tr><tr><td>&quot;holdout&quot;</td><td>&quot;veterinarian&quot;</td><td>481</td><td>481</td><td>0</td><td>0.0</td></tr><tr><td>&quot;holdout&quot;</td><td>&quot;chiropractor&quot;</td><td>450</td><td>450</td><td>0</td><td>0.0</td></tr><tr><td>&quot;holdout&quot;</td><td>&quot;social&quot;</td><td>400</td><td>400</td><td>0</td><td>0.0</td></tr><tr><td>&quot;holdout&quot;</td><td>&quot;paramedic&quot;</td><td>318</td><td>318</td><td>0</td><td>0.0</td></tr><tr><td>&quot;holdout&quot;</td><td>&quot;psychologist&quot;</td><td>305</td><td>305</td><td>0</td><td>0.0</td></tr><tr><td>&quot;holdout&quot;</td><td>&quot;dentist&quot;</td><td>263</td><td>263</td><td>0</td><td>0.0</td></tr><tr><td>&quot;holdout&quot;</td><td>&quot;phlebotomist&quot;</td><td>214</td><td>214</td><td>0</td><td>0.0</td></tr></tbody></table></div>"
     },
     "execution_count": 13,
     "metadata": {},
     "output_type": "execute_result"
    }
   ],
   "source": [
    "get_occupation_counts()"
   ],
   "metadata": {
    "collapsed": false,
    "ExecuteTime": {
     "end_time": "2024-02-01T20:25:31.956707100Z",
     "start_time": "2024-02-01T20:25:31.762823300Z"
    }
   },
   "id": "fba4db0211e44067",
   "execution_count": 13
  },
  {
   "cell_type": "code",
   "execution_count": null,
   "outputs": [],
   "source": [
    "tensor_transform = transforms.Compose([\n",
    "    transforms.Resize((512, 512)),\n",
    "    transforms.ToTensor()\n",
    "])\n",
    "\n",
    "normalization_values = calculate_normalization(use_custom_normalization, dataset_structure_hash)"
   ],
   "metadata": {
    "collapsed": false,
    "is_executing": true,
    "ExecuteTime": {
     "start_time": "2024-02-01T20:25:36.640437Z"
    }
   },
   "id": "2774d1fcab1bba50"
  },
  {
   "cell_type": "code",
   "execution_count": null,
   "outputs": [],
   "source": [
    "# Load train/test images in Pytorch format\n",
    "transformations = transforms.Compose([\n",
    "    transforms.Resize((512, 512)),  # Images are already 512x512, but it's good to be sure\n",
    "    transforms.ToTensor(),\n",
    "    transforms.Normalize(mean=normalization_values['mean'], std=normalization_values['std'])\n",
    "])\n",
    "\n",
    "train_dataset = ImageFolder(os.path.join(data_dir, 'Labeled'), transform=transformations)\n",
    "train_loader = DataLoader(train_dataset, batch_size=batch_size, shuffle=True)\n",
    "val_dataset = ImageFolder(os.path.join(data_dir, 'Holdout'), transform=transformations)\n",
    "val_loader = DataLoader(val_dataset, batch_size=batch_size, shuffle=False)\n",
    "\n",
    "display_images_from_dataloader(train_loader, num_images=16)"
   ],
   "metadata": {
    "collapsed": true,
    "ExecuteTime": {
     "start_time": "2024-02-01T20:23:40.538587700Z"
    }
   },
   "id": "initial_id"
  },
  {
   "cell_type": "markdown",
   "source": [
    "# ResNet model"
   ],
   "metadata": {
    "collapsed": false
   },
   "id": "5734761e01a6b298"
  },
  {
   "cell_type": "code",
   "execution_count": null,
   "outputs": [],
   "source": [
    "# Load a pre-trained ResNet model\n",
    "# Available sizes are 18, 34, 50, 101, 152\n",
    "model_resnet = models.resnet152(weights=torchvision.models.ResNet152_Weights.IMAGENET1K_V2)\n",
    "model_resnet.name = \"ResNet152v2\"\n",
    "#model_resnet = models.resnet18(weights=torchvision.models.ResNet18_Weights.IMAGENET1K_V1)\n",
    "#model_resnet.name = \"ResNet18\"\n",
    "\n",
    "# Freeze the layers except the final layer\n",
    "for param in model_resnet.parameters():\n",
    "    param.requires_grad = False\n",
    "\n",
    "# Replace the last fully connected layer for binary classification\n",
    "num_features = model_resnet.fc.in_features\n",
    "model_resnet.fc = nn.Linear(num_features, 2)\n",
    "\n",
    "# Use GPU if available\n",
    "device = torch.device(\"cuda:0\" if torch.cuda.is_available() else \"cpu\")\n",
    "model_resnet = model_resnet.to(device)\n",
    "criterion = nn.CrossEntropyLoss()\n",
    "optimizer = optim.Adam(model_resnet.fc.parameters(), lr=0.001)"
   ],
   "metadata": {
    "collapsed": false,
    "ExecuteTime": {
     "start_time": "2024-02-01T20:23:40.542602700Z"
    }
   },
   "id": "154b6f22a12e1b9f"
  },
  {
   "cell_type": "code",
   "execution_count": null,
   "outputs": [],
   "source": [
    "resnet_train_epoch_loss = []\n",
    "resnet_train_epoch_accuracy = []\n",
    "resnet_validation_epoch_loss = []\n",
    "resnet_validation_epoch_accuracy = []\n",
    "model_training_start_time = datetime.datetime.now().timestamp()\n",
    "\n",
    "# Fine-tune the ResNet model\n",
    "for epoch in range(num_epochs):\n",
    "    model_resnet.train()\n",
    "    print(f\"Epoch {epoch + 1} initiated\")\n",
    "    running_loss = 0.0\n",
    "    correct_train = 0\n",
    "    total_train = 0\n",
    "    for i, data in enumerate(train_loader, 0):\n",
    "        if i % 250 == 0:\n",
    "            print(f\"Training batch {i + 1}/{len(train_loader)} ({current_time_only()})\")\n",
    "        inputs, labels = data\n",
    "        inputs, labels = inputs.to(device), labels.to(device)\n",
    "        optimizer.zero_grad()\n",
    "        outputs = model_resnet(inputs)\n",
    "        loss = criterion(outputs, labels)\n",
    "        loss.backward()\n",
    "        optimizer.step()\n",
    "        running_loss += loss.item()\n",
    "        _, predicted = torch.max(outputs.data, 1)\n",
    "        total_train += labels.size(0)\n",
    "        correct_train += (predicted == labels).sum().item()\n",
    "    resnet_train_epoch_loss.append(running_loss / len(train_loader))\n",
    "    resnet_train_epoch_accuracy.append(correct_train / total_train)\n",
    "\n",
    "    # Validation\n",
    "    model_resnet.eval()\n",
    "    val_loss = 0.0\n",
    "    correct = 0\n",
    "    total = 0\n",
    "    with torch.no_grad():\n",
    "        print(f\"Validation started ({current_time_only()})\")\n",
    "        for inputs, labels in val_loader:\n",
    "            inputs, labels = inputs.to(device), labels.to(device)\n",
    "            outputs = model_resnet(inputs)\n",
    "            loss = criterion(outputs, labels)\n",
    "            val_loss += loss.item()\n",
    "            _, predicted = torch.max(outputs.data, 1)\n",
    "            total += labels.size(0)\n",
    "            correct += (predicted == labels).sum().item()\n",
    "\n",
    "    # Calculate validation loss and accuracy for the epoch\n",
    "    epoch_val_loss = val_loss / len(val_loader)\n",
    "    epoch_val_accuracy = correct / total\n",
    "    resnet_validation_epoch_loss.append(epoch_val_loss)\n",
    "    resnet_validation_epoch_accuracy.append(epoch_val_accuracy)\n",
    "\n",
    "    # Extra fancy console output\n",
    "    print(\"\\n\" + \"*\" * 50)\n",
    "    print(f\"{'*' * 10} EPOCH {epoch + 1} RESULTS {'*' * 10}\".center(50))\n",
    "    print(\"*\" * 50)\n",
    "    print(f'\\033[94mTrain Loss: {running_loss / len(train_loader):.3f}\\033[0m, '\n",
    "          f'\\033[92mValidation Loss: {epoch_val_loss:.3f}\\033[0m, '\n",
    "          f'\\033[93mTraining Accuracy: {100 * correct_train / total_train:.2f}%\\033[0m, '\n",
    "          f'\\033[91mValidation Accuracy: {100 * epoch_val_accuracy:.2f}%\\033[0m')\n",
    "    print(\"*\" * 50 + \"\\n\")\n",
    "\n",
    "    # Write data to .csv as a backup to the sqlite database\n",
    "    with open(\"training_log.csv\", 'a') as f:\n",
    "        # Save epoch metrics\n",
    "        # Column names: model_training_start_time, model_name, batch_size, epoch, train_loss,\n",
    "        # val_loss, train_accuracy, val_accuracy, epoch_completion_timestamp, dataset_structure_hash\n",
    "        f.write(\n",
    "            f\"{model_training_start_time},{model_resnet.name},{batch_size},{epoch + 1},{running_loss / len(train_loader)},\"\n",
    "            f\"{epoch_val_loss},{100 * correct_train / total_train},{100 * epoch_val_accuracy},\"\n",
    "            f\"{datetime.datetime.now().timestamp()},{dataset_structure_hash}\\n\")\n",
    "\n",
    "    # Prepare data for insertion\n",
    "    data_to_insert = (model_training_start_time, model_resnet.name, batch_size, epoch + 1,\n",
    "                      running_loss / len(train_loader), epoch_val_loss,\n",
    "                      100 * correct_train / total_train, 100 * epoch_val_accuracy,\n",
    "                      datetime.datetime.now().timestamp(), dataset_structure_hash)\n",
    "\n",
    "    # Prepare INSERT INTO statement\n",
    "    insert_query = \"\"\"INSERT INTO training_log (model_training_start_time, model_name, batch_size, epoch, train_loss, \n",
    "                    val_loss, train_accuracy, val_accuracy, epoch_completion_timestamp, dataset_structure_hash) \n",
    "                    VALUES (?, ?, ?, ?, ?, ?, ?, ?, ?, ?);\"\"\"\n",
    "\n",
    "    con = sqlite3.connect(\"genderative_ai_database.db\")\n",
    "    cur = con.cursor()\n",
    "    cur.execute(insert_query, data_to_insert)\n",
    "    con.commit()\n",
    "    con.close()\n",
    "\n",
    "print(f'Finished Training ({current_time_only()})')"
   ],
   "metadata": {
    "collapsed": false,
    "ExecuteTime": {
     "start_time": "2024-02-01T20:23:40.546614300Z"
    }
   },
   "id": "a91ff7e6685697f"
  },
  {
   "cell_type": "code",
   "execution_count": null,
   "outputs": [],
   "source": [
    "torch.save(model_resnet, f\"{model_resnet.name}_{int(datetime.datetime.now().timestamp())}.pt\")"
   ],
   "metadata": {
    "collapsed": false,
    "ExecuteTime": {
     "start_time": "2024-02-01T20:23:40.549615900Z"
    }
   },
   "id": "6128c612070ed76b"
  },
  {
   "cell_type": "code",
   "execution_count": null,
   "outputs": [],
   "source": [
    "# Load most recent model\n",
    "#model_files = [f for f in os.listdir() if f.startswith(\"ResNet\")]\n",
    "#model_files.sort()\n",
    "#model_resnet = torch.load(model_files[-1])"
   ],
   "metadata": {
    "collapsed": false,
    "ExecuteTime": {
     "start_time": "2024-02-01T20:23:40.554622800Z"
    }
   },
   "id": "c39019187e0861b2"
  },
  {
   "cell_type": "code",
   "execution_count": null,
   "outputs": [],
   "source": [
    "plot_training_progress(train_acc=resnet_train_epoch_accuracy,\n",
    "                       train_loss=resnet_train_epoch_loss,\n",
    "                       val_acc=resnet_validation_epoch_accuracy,\n",
    "                       validation_loss=resnet_validation_epoch_loss,\n",
    "                       title=\"Fine-tuned model results\")"
   ],
   "metadata": {
    "collapsed": false,
    "ExecuteTime": {
     "end_time": "2024-02-01T20:23:40.587152300Z",
     "start_time": "2024-02-01T20:23:40.560140100Z"
    }
   },
   "id": "618d925dcbba56e7"
  },
  {
   "cell_type": "markdown",
   "source": [
    "# Training history"
   ],
   "metadata": {
    "collapsed": false
   },
   "id": "4e0361d29da0e40f"
  },
  {
   "cell_type": "code",
   "execution_count": null,
   "outputs": [],
   "source": [
    "training_log_schema = {\"key\": pl.UInt32,\n",
    "                       \"model_training_start_time\": pl.Float64,\n",
    "                       \"model_name\": pl.Utf8,\n",
    "                       \"batch_size\": pl.UInt64,\n",
    "                       \"epoch\": pl.UInt64,\n",
    "                       \"train_loss\": pl.Float64,\n",
    "                       \"val_loss\": pl.Float64,\n",
    "                       \"train_accuracy\": pl.Float64,\n",
    "                       \"val_accuracy\": pl.Float64,\n",
    "                       \"epoch_completion_timestamp\": pl.Float64,\n",
    "                       \"dataset_structure_hash\": pl.Utf8}\n",
    "\n",
    "con = sqlite3.connect(\"genderative_ai_database.db\")\n",
    "cur = con.cursor()\n",
    "training_log = pl.DataFrame(cur.execute(\"SELECT * FROM training_log\").fetchall(),\n",
    "                            schema=training_log_schema).with_columns(\n",
    "    (pl.col(\"epoch_completion_timestamp\") - pl.col(\"model_training_start_time\")).alias(\"training_duration\")\n",
    ")\n",
    "\n",
    "training_log_latest = (pl.DataFrame(cur.execute(\"\"\"\n",
    "    WITH latest_dataset_hash AS (\n",
    "        SELECT dataset_structure_hash\n",
    "        FROM training_log\n",
    "        ORDER BY epoch_completion_timestamp DESC\n",
    "        LIMIT 1\n",
    "    )\n",
    "    SELECT *\n",
    "    FROM training_log\n",
    "    WHERE dataset_structure_hash IN (SELECT dataset_structure_hash FROM latest_dataset_hash);\n",
    "\"\"\").fetchall(),\n",
    "                                    schema=training_log_schema)\n",
    ".drop(\"key\")\n",
    ".with_columns(\n",
    "    (pl.col(\"epoch_completion_timestamp\") - pl.col(\"model_training_start_time\")).alias(\"training_duration\")\n",
    "))\n",
    "con.close()\n",
    "\n",
    "with pl.Config(verbose=True):\n",
    "    training_log_by_model = (\n",
    "        training_log\n",
    "        .lazy()\n",
    "        .group_by([\"model_name\", \"batch_size\", \"epoch\"])\n",
    "        .agg(\n",
    "            pl.median(\"train_loss\").alias(\"train_loss\"),\n",
    "            pl.median(\"val_loss\").alias(\"val_loss\"),\n",
    "            pl.median(\"train_accuracy\").alias(\"train_accuracy\"),\n",
    "            pl.median(\"val_accuracy\").alias(\"val_accuracy\"),\n",
    "            pl.median(\"training_duration\").alias(\"training_duration\"),\n",
    "            pl.count().alias(\"n\")\n",
    "        )\n",
    "        .sort('val_accuracy', descending=True)\n",
    "        .collect()\n",
    "    )\n",
    "\n",
    "training_log_latest_by_model = (\n",
    "    training_log_latest\n",
    "    .lazy()\n",
    "    .group_by([\"model_name\", \"batch_size\", \"epoch\"])\n",
    "    .agg(\n",
    "        pl.median(\"train_loss\").alias(\"train_loss\"),\n",
    "        pl.median(\"val_loss\").alias(\"val_loss\"),\n",
    "        pl.median(\"train_accuracy\").alias(\"train_accuracy\"),\n",
    "        pl.median(\"val_accuracy\").alias(\"val_accuracy\"),\n",
    "        pl.median(\"training_duration\").alias(\"training_duration\"),\n",
    "        pl.count().alias(\"n\")\n",
    "    )\n",
    "    .sort('val_accuracy', descending=True)\n",
    "    .collect()\n",
    ")"
   ],
   "metadata": {
    "collapsed": false,
    "ExecuteTime": {
     "start_time": "2024-02-01T20:23:40.565146900Z"
    }
   },
   "id": "3cf8105a0b5ef196"
  },
  {
   "cell_type": "code",
   "execution_count": null,
   "outputs": [],
   "source": [
    "plt.figure(figsize=(12, 8))\n",
    "sns.lineplot(data=training_log_by_model, x=\"epoch\", y=\"val_accuracy\", hue=\"model_name\", style=\"model_name\",\n",
    "             markers=True)\n",
    "plt.title('Validation Accuracy by model and epoch (all training runs)')\n",
    "plt.xlabel('Epoch')\n",
    "plt.ylabel('Validation Accuracy')\n",
    "plt.legend(title='Model Name', loc='lower right')\n",
    "plt.show()"
   ],
   "metadata": {
    "collapsed": false,
    "ExecuteTime": {
     "start_time": "2024-02-01T20:23:40.569144200Z"
    }
   },
   "id": "f298a2883730ab2a"
  },
  {
   "cell_type": "code",
   "execution_count": null,
   "outputs": [],
   "source": [
    "plt.figure(figsize=(12, 8))\n",
    "sns.lineplot(data=training_log_by_model, x=\"training_duration\", y=\"val_accuracy\", hue=\"model_name\", style=\"model_name\",\n",
    "             markers=True)\n",
    "plt.title('Validation accuracy by model and duration (all training runs)')\n",
    "plt.xlabel('Training duration (seconds)')\n",
    "plt.ylabel('Validation Accuracy')\n",
    "plt.legend(title='Model Name', loc='lower right')\n",
    "plt.show()"
   ],
   "metadata": {
    "collapsed": false,
    "ExecuteTime": {
     "start_time": "2024-02-01T20:23:40.573141500Z"
    }
   },
   "id": "475d92a5b2098ada"
  },
  {
   "cell_type": "code",
   "outputs": [],
   "source": [
    "plt.figure(figsize=(12, 8))\n",
    "sns.lineplot(data=training_log_latest_by_model,\n",
    "             x=\"epoch\",\n",
    "             y=\"val_accuracy\",\n",
    "             hue=\"model_name\",\n",
    "             style=\"model_name\",\n",
    "             markers=True)\n",
    "plt.title('Validation Accuracy by model and epoch (current dataset only)')\n",
    "plt.xlabel('Epoch')\n",
    "plt.ylabel('Validation Accuracy')\n",
    "plt.legend(title='Model Name', loc='lower right')\n",
    "plt.show()"
   ],
   "metadata": {
    "collapsed": false,
    "ExecuteTime": {
     "start_time": "2024-02-01T20:23:40.577139600Z"
    }
   },
   "id": "5e81675c98048666",
   "execution_count": null
  },
  {
   "cell_type": "code",
   "outputs": [],
   "source": [
    "plt.figure(figsize=(12, 8))\n",
    "sns.lineplot(data=training_log_latest_by_model, x=\"training_duration\", y=\"val_accuracy\", hue=\"model_name\",\n",
    "             style=\"model_name\",\n",
    "             markers=True)\n",
    "plt.title('Validation accuracy by model and duration (current dataset only)')\n",
    "plt.xlabel('Training duration (seconds)')\n",
    "plt.ylabel('Validation Accuracy')\n",
    "plt.legend(title='Model Name', loc='lower right')\n",
    "plt.show()"
   ],
   "metadata": {
    "collapsed": false,
    "ExecuteTime": {
     "start_time": "2024-02-01T20:23:40.580141400Z"
    }
   },
   "id": "f1c02c9cefe1fa6d",
   "execution_count": null
  },
  {
   "cell_type": "markdown",
   "source": [
    "# Manual image classification"
   ],
   "metadata": {
    "collapsed": false
   },
   "id": "950e97fb12788163"
  },
  {
   "cell_type": "code",
   "execution_count": null,
   "outputs": [],
   "source": [
    "train_exploration_loader = DataLoader(train_dataset, batch_size=1, shuffle=False)\n",
    "train_exploration_results = predict_model_resnet(train_exploration_loader)"
   ],
   "metadata": {
    "collapsed": false,
    "ExecuteTime": {
     "start_time": "2024-02-01T20:23:40.582144300Z"
    }
   },
   "id": "9a15a9128c94cf12"
  },
  {
   "cell_type": "code",
   "execution_count": null,
   "outputs": [],
   "source": [
    "train_bad_guesses = (train_exploration_results\n",
    ".filter((pl.col(\"confidence\") < 0.1) | (pl.col(\"correct_prediction\") == 0))\n",
    ".sort([\n",
    "    (good_prediction := pl.col('label').eq(pl.col('prediction'))),\n",
    "    (good_prediction - 1) * pl.col('confidence'),\n",
    "    pl.col('confidence')\n",
    "]))\n",
    "\n",
    "with open(\"file_move_history.txt\", \"r\") as file:\n",
    "    moved_files = file.read().splitlines()\n",
    "\n",
    "train_bad_guess_file_paths = train_bad_guesses.select(\"file_path\").to_series().to_list()\n",
    "\n",
    "train_bad_guess_file_paths = [fp for fp in train_bad_guess_file_paths if fp not in moved_files]\n",
    "\n",
    "pl.DataFrame(train_bad_guess_file_paths, schema=[\"file_path\"]).write_csv(\"train_holdout_bad_guesses.csv\")\n",
    "\n",
    "print(f\"{len(train_bad_guess_file_paths)} files to be reclassified\")"
   ],
   "metadata": {
    "collapsed": false,
    "ExecuteTime": {
     "start_time": "2024-02-01T20:23:40.585139400Z"
    }
   },
   "id": "947d6aee5aa2140b"
  },
  {
   "cell_type": "code",
   "execution_count": null,
   "outputs": [],
   "source": [
    "#label_images(csv_file=\"train_holdout_bad_guesses.csv\", output_file=\"train_holdout_manual_labels.csv\")"
   ],
   "metadata": {
    "collapsed": false,
    "ExecuteTime": {
     "end_time": "2024-02-01T20:23:40.772409600Z",
     "start_time": "2024-02-01T20:23:40.590138500Z"
    }
   },
   "id": "699bbe42832608b8"
  },
  {
   "cell_type": "code",
   "execution_count": null,
   "outputs": [],
   "source": [
    "#move_labeled_images(\"train_holdout_manual_labels.csv\")"
   ],
   "metadata": {
    "collapsed": false,
    "ExecuteTime": {
     "start_time": "2024-02-01T20:23:40.595141200Z"
    }
   },
   "id": "ec16ef073072c42c"
  },
  {
   "cell_type": "code",
   "execution_count": null,
   "outputs": [],
   "source": [
    "exploration_loader = DataLoader(val_dataset, batch_size=1, shuffle=False)\n",
    "exploration_results = predict_model_resnet(exploration_loader).with_columns(\n",
    "    (1 - pl.col(\"prob_female\")).alias(\"prob_male\")\n",
    ")\n",
    "exploration_results = add_occupation(exploration_results)"
   ],
   "metadata": {
    "collapsed": false,
    "ExecuteTime": {
     "start_time": "2024-02-01T20:23:40.598139400Z"
    }
   },
   "id": "1f22dbf89b4f4c49"
  },
  {
   "cell_type": "code",
   "execution_count": null,
   "outputs": [],
   "source": [
    "cv_bad_guesses = (exploration_results\n",
    ".filter((pl.col(\"confidence\") < 0.1) | (pl.col(\"correct_prediction\") == 0))\n",
    ".sort([\n",
    "    (good_prediction := pl.col('label').eq(pl.col('prediction'))),\n",
    "    (good_prediction - 1) * pl.col('confidence'),\n",
    "    pl.col('confidence')\n",
    "]))\n",
    "\n",
    "with open(\"file_move_history.txt\", \"r\") as file:\n",
    "    moved_files = file.read().splitlines()\n",
    "\n",
    "bad_guess_file_paths = cv_bad_guesses.select(\"file_path\").to_series().to_list()\n",
    "\n",
    "holdout_filtered_files = [fp for fp in bad_guess_file_paths if fp not in moved_files]\n",
    "print(f\"{len(holdout_filtered_files)} files to be reclassified\")\n",
    "pl.DataFrame(holdout_filtered_files, schema=[\"file_path\"]).write_csv(\"holdout_bad_guesses.csv\")"
   ],
   "metadata": {
    "collapsed": false,
    "ExecuteTime": {
     "start_time": "2024-02-01T20:23:40.601141800Z"
    }
   },
   "id": "81b1d9d0130f235a"
  },
  {
   "cell_type": "code",
   "execution_count": null,
   "outputs": [],
   "source": [
    "#label_images(csv_file=\"holdout_bad_guesses.csv\", output_file=\"holdout_manual_labels.csv\")"
   ],
   "metadata": {
    "collapsed": false,
    "ExecuteTime": {
     "start_time": "2024-02-01T20:23:40.604143100Z"
    }
   },
   "id": "71602292e2e4ae00"
  },
  {
   "cell_type": "code",
   "execution_count": null,
   "outputs": [],
   "source": [
    "#move_labeled_images(\"holdout_manual_labels.csv\")"
   ],
   "metadata": {
    "collapsed": false,
    "ExecuteTime": {
     "start_time": "2024-02-01T20:23:40.607142600Z"
    }
   },
   "id": "a687344b49ed6cc8"
  },
  {
   "cell_type": "markdown",
   "source": [
    "# CV stats"
   ],
   "metadata": {
    "collapsed": false
   },
   "id": "7b15b84cac2f5c5b"
  },
  {
   "cell_type": "code",
   "execution_count": null,
   "outputs": [],
   "source": [
    "fig, ax = plt.subplots()\n",
    "ax.pie([exploration_results.select(pl.mean(\"correct_prediction\")).to_series().to_list()[0],\n",
    "        1 - exploration_results.select(pl.mean(\"correct_prediction\")).to_series().to_list()[0]],\n",
    "       labels=[\"Correct\", \"Incorrect\"],\n",
    "       autopct=\"%1.1f%%\",\n",
    "       colors=[\"#76ffbf\", \"#ff8876\"])\n",
    "plt.title(\"Cross-validated accuracy\")\n",
    "plt.show()"
   ],
   "metadata": {
    "collapsed": false,
    "ExecuteTime": {
     "start_time": "2024-02-01T20:23:40.610141500Z"
    }
   },
   "id": "cac48ac782a5ae24"
  },
  {
   "cell_type": "code",
   "execution_count": null,
   "outputs": [],
   "source": [
    "idx_to_class = {v: k for k, v in val_dataset.class_to_idx.items()}\n",
    "\n",
    "accuracy_by_gender = (exploration_results.select([\"label\", \"correct_prediction\"])\n",
    ".group_by(\"label\")\n",
    ".mean()\n",
    ".with_columns(\n",
    "    pl.col(\"label\").replace(idx_to_class)\n",
    "))\n",
    "\n",
    "fig, ax = plt.subplots()\n",
    "ax.bar(list(zip(*accuracy_by_gender.rows()))[0], list(zip(*accuracy_by_gender.rows()))[1], color=\"#76ffbf\")\n",
    "plt.title(\"Accuracy by gender\")\n",
    "ax.yaxis.set_major_formatter(matplotlib.ticker.PercentFormatter(xmax=1))\n",
    "\n",
    "plt.show()"
   ],
   "metadata": {
    "collapsed": false,
    "ExecuteTime": {
     "start_time": "2024-02-01T20:23:40.613142Z"
    }
   },
   "id": "ed7fa36ce328c292"
  },
  {
   "cell_type": "code",
   "outputs": [],
   "source": [
    "(exploration_results.group_by('occupation')\n",
    " .map_groups(calculate_metrics)\n",
    " .vstack(\n",
    "    calculate_metrics(exploration_results)).sort(\"f1_score\"))"
   ],
   "metadata": {
    "collapsed": false,
    "ExecuteTime": {
     "start_time": "2024-02-01T20:23:40.616142Z"
    }
   },
   "id": "ab56f74ff4c9d63f",
   "execution_count": null
  },
  {
   "cell_type": "code",
   "execution_count": null,
   "outputs": [],
   "source": [
    "exploration_results_confidence = (exploration_results.select(\n",
    "    pl.col(\"prob_female\").round(1),\n",
    "    pl.col(\"label\")\n",
    ")\n",
    ".group_by(\"prob_female\")\n",
    ".agg(\n",
    "    abs(pl.mean(\"label\") - 1)\n",
    ")\n",
    ").sort(\"prob_female\")\n",
    "\n",
    "fig, ax = plt.subplots()\n",
    "ax.plot(exploration_results_confidence[\"prob_female\"], exploration_results_confidence[\"label\"])\n",
    "ax.set(xlabel=\"Predicted probability of female\", ylabel=\"Actual frequency of female\", title=\"Prediction vs labels\")\n",
    "ax.xaxis.set_major_formatter(matplotlib.ticker.PercentFormatter(xmax=1))\n",
    "ax.yaxis.set_major_formatter(matplotlib.ticker.PercentFormatter(xmax=1))\n",
    "ax.annotate(\"$R^2$ = {:.2f}\".format(\n",
    "    sklearn.metrics.r2_score(exploration_results_confidence[\"prob_female\"], exploration_results_confidence[\"label\"])),\n",
    "    (0, 1))\n",
    "ax.grid()\n",
    "plt.show()"
   ],
   "metadata": {
    "collapsed": false,
    "ExecuteTime": {
     "start_time": "2024-02-01T20:23:40.620140400Z"
    }
   },
   "id": "c225abb2e0abd89c"
  },
  {
   "cell_type": "markdown",
   "source": [
    "# Unlabeled images"
   ],
   "metadata": {
    "collapsed": false
   },
   "id": "e6376f5ca025622f"
  },
  {
   "cell_type": "code",
   "execution_count": null,
   "outputs": [],
   "source": [
    "unlabeled_dataset = ImageFolder(os.path.join(data_dir, 'Unlabeled'), transform=tensor_transform)\n",
    "unlabeled_loader = DataLoader(unlabeled_dataset, batch_size=1, shuffle=False)\n",
    "\n",
    "unlabeled_predictions = predict_model_resnet(unlabeled_loader)\n",
    "unlabeled_predictions.drop([\"label\", \"correct_prediction\"])\n",
    "unlabeled_predictions = add_occupation(unlabeled_predictions)"
   ],
   "metadata": {
    "collapsed": false,
    "ExecuteTime": {
     "start_time": "2024-02-01T20:23:40.624175700Z"
    }
   },
   "id": "1d4025090c232e05"
  },
  {
   "cell_type": "code",
   "execution_count": null,
   "outputs": [],
   "source": [
    "print(\"Lowest-confidence images\")\n",
    "for img_path in unlabeled_predictions.sort(\"confidence\", descending=False).head(6).to_series(0):\n",
    "    img = PIL.Image.open(img_path)\n",
    "    display(PIL.Image.open(img_path).resize((128, 128)))"
   ],
   "metadata": {
    "collapsed": false,
    "ExecuteTime": {
     "start_time": "2024-02-01T20:23:40.628143200Z"
    }
   },
   "id": "605989ac63bb83a7"
  },
  {
   "cell_type": "code",
   "execution_count": null,
   "outputs": [],
   "source": [
    "bls_gender = (\n",
    "    pl.DataFrame({\"occupation\": [\"nutritionist\", \"doctor\", \"chiropractor\", \"pharmacist\", \"dentist\", \"paramedic\",\n",
    "                                 \"psychologist\", \"veterinarian\", \"social\", \"phlebotomist\", \"nurse\"],\n",
    "                  \"bls_percent_female\": [.880, .438, .255, .596, .366, .236, .750, .698, .815, .879, .879]})\n",
    "    .sort(\"bls_percent_female\")\n",
    "    .with_columns(\n",
    "        (1 - pl.col(\"bls_percent_female\")).alias(\"bls_percent_male\")\n",
    "    ))\n",
    "\n",
    "unlabeled_prediction_summary = (unlabeled_predictions\n",
    "                                .select([\"occupation\", \"prediction\"])\n",
    "                                .group_by(\"occupation\")\n",
    "                                .agg(\n",
    "    pl.mean(\"prediction\"),\n",
    "    pl.count().alias(\"n\")\n",
    ")\n",
    "                                .sort(\"prediction\", descending=True)\n",
    "                                .filter(pl.col(\"n\") > 99)\n",
    "                                .join(bls_gender, on=\"occupation\", how=\"left\"))\n",
    "\n",
    "(unlabeled_prediction_summary.select([\"occupation\", \"prediction\", \"bls_percent_male\"])\n",
    " .sort(\"prediction\",\n",
    "       descending=True))"
   ],
   "metadata": {
    "collapsed": false,
    "ExecuteTime": {
     "start_time": "2024-02-01T20:23:40.630142300Z"
    }
   },
   "id": "85dcff2aa006686"
  },
  {
   "cell_type": "code",
   "execution_count": null,
   "outputs": [],
   "source": [
    "fig, ax = plt.subplots()\n",
    "ax.bar(unlabeled_prediction_summary[\"occupation\"].to_list(),\n",
    "       unlabeled_prediction_summary[\"prediction\"].to_list())\n",
    "\n",
    "ax.set_title(\"Male representation by occupation\")\n",
    "ax.set_ylabel(\"Percent male\")\n",
    "ax.set_xlabel(\"Occupation\")\n",
    "ax.yaxis.set_major_formatter(matplotlib.ticker.PercentFormatter(xmax=1))\n",
    "plt.xticks(unlabeled_prediction_summary[\"occupation\"].to_list(), rotation='vertical')\n",
    "\n",
    "plt.show()"
   ],
   "metadata": {
    "collapsed": false,
    "ExecuteTime": {
     "start_time": "2024-02-01T20:23:40.632144700Z"
    }
   },
   "id": "29800d0604c1de41"
  },
  {
   "cell_type": "code",
   "execution_count": null,
   "outputs": [],
   "source": [
    "fig, ax = plt.subplots()\n",
    "ax.scatter(unlabeled_prediction_summary[\"bls_percent_male\"], unlabeled_prediction_summary[\"prediction\"])\n",
    "ax.set_xlim((0, 1))\n",
    "ax.set_ylim((0, 1))\n",
    "ax.xaxis.set_major_formatter(matplotlib.ticker.PercentFormatter(xmax=1))\n",
    "ax.yaxis.set_major_formatter(matplotlib.ticker.PercentFormatter(xmax=1))\n",
    "ax.annotate(\"$R^2$ = {:.2f}\".format(\n",
    "    sklearn.metrics.r2_score(unlabeled_prediction_summary[\"bls_percent_male\"],\n",
    "                             unlabeled_prediction_summary[\"prediction\"])),\n",
    "    (0.04, .9))\n",
    "ax.set_xlabel(\"Percent male according to BLS employment data\")\n",
    "ax.set_ylabel(\"Percent male according to generative AI\")\n",
    "ax.set_title(\"Gender representation, BLS vs. generative AI\")\n",
    "plt.show()"
   ],
   "metadata": {
    "collapsed": false,
    "ExecuteTime": {
     "start_time": "2024-02-01T20:23:40.635140700Z"
    }
   },
   "id": "2fd053be076e9f68"
  },
  {
   "cell_type": "code",
   "execution_count": null,
   "outputs": [],
   "source": [
    "unlabeled_predictions.filter(pl.col(\"confidence\") < 0.1).sort(\"confidence\").select(\"file_path\").write_csv(\n",
    "    \"unlabeled_path_test.csv\")\n",
    "\n",
    "label_images(\"unlabeled_path_test.csv\", \"unlabeled_labels.csv\")"
   ],
   "metadata": {
    "collapsed": false,
    "ExecuteTime": {
     "start_time": "2024-02-01T20:23:40.637141Z"
    }
   },
   "id": "36d6ec9ceb76741b"
  },
  {
   "cell_type": "code",
   "execution_count": null,
   "outputs": [],
   "source": [
    "#move_labeled_images(\"unlabeled_labels.csv\")"
   ],
   "metadata": {
    "collapsed": false
   },
   "id": "f7719fcaa3c19007"
  }
 ],
 "metadata": {
  "kernelspec": {
   "display_name": "Python 3",
   "language": "python",
   "name": "python3"
  },
  "language_info": {
   "codemirror_mode": {
    "name": "ipython",
    "version": 2
   },
   "file_extension": ".py",
   "mimetype": "text/x-python",
   "name": "python",
   "nbconvert_exporter": "python",
   "pygments_lexer": "ipython2",
   "version": "2.7.6"
  }
 },
 "nbformat": 4,
 "nbformat_minor": 5
}
