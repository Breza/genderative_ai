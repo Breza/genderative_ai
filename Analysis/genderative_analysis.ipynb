{
 "cells": [
  {
   "cell_type": "markdown",
   "source": [],
   "metadata": {
    "collapsed": false
   },
   "id": "3aee222c12a87d1"
  },
  {
   "cell_type": "markdown",
   "source": [
    "# Analysis plan\n",
    "\n",
    "* Load training data\n",
    "* Make sure classes are evenly balanced, otherwise throw exception\n",
    "* Load validation data\n",
    "* Train model on training data\n",
    "* Test model on validation data\n",
    "* Move uncertain images from training and holdout sets to review folder\n",
    "* Manually review uncertain images\n",
    "* Adjust images as needed (delete bad images and move misclassified good images to training set)\n",
    "* Calculate validation metrics for each occupation\n",
    "* Create more training data if some occupations have bad metrics\n",
    "* Repeat as needed\n",
    "* Run final model against holdout data that hasn't been previously examined\n",
    "* Calculate overall metrics and break out by gender and occupation\n",
    "* Run final model against unlabeled data\n",
    "* Save prediction for each image\n",
    "* Calculate gender representation for each occupation"
   ],
   "metadata": {
    "collapsed": false
   },
   "id": "100e3aeb9e982dad"
  },
  {
   "cell_type": "code",
   "execution_count": 2,
   "outputs": [],
   "source": [
    "import datetime\n",
    "import os\n",
    "from typing import Dict, List, Union\n",
    "\n",
    "import PIL\n",
    "import cv2\n",
    "import matplotlib.pyplot as plt\n",
    "import matplotlib.ticker\n",
    "import numpy as np\n",
    "import polars as pl\n",
    "import torch\n",
    "import torch.nn as nn\n",
    "import torch.optim as optim\n",
    "import torchvision\n",
    "from IPython.display import display\n",
    "from torch.utils.data import DataLoader\n",
    "from torchvision import models, transforms\n",
    "from torchvision.datasets import ImageFolder\n",
    "from torchvision.models import ResNet50_Weights\n",
    "\n",
    "if not torch.cuda.is_available():\n",
    "    print(\"No GPU available, falling back to CPU\")"
   ],
   "metadata": {
    "collapsed": false,
    "ExecuteTime": {
     "end_time": "2024-01-03T15:22:50.221819500Z",
     "start_time": "2024-01-03T15:22:43.975709800Z"
    }
   },
   "id": "d463fb008caa33fe"
  },
  {
   "cell_type": "code",
   "execution_count": 3,
   "outputs": [],
   "source": [
    "# Helpers\n",
    "\n",
    "# Functions\n",
    "def current_time_only(file_safe: bool = False) -> str:\n",
    "    \"\"\"\n",
    "    Returns the current time at second precision without date.\n",
    "\n",
    "    Parameters:\n",
    "    file_safe (bool): If True, returns time formatted for file naming (replaces ':' with '_').\n",
    "\n",
    "    Returns:\n",
    "    str: Current time formatted as 'HH:MM:SS' or 'DD_HH_MM_SS' if file_safe is True.\n",
    "    \"\"\"\n",
    "    if file_safe:\n",
    "        return datetime.datetime.now().strftime('%d:%H:%M:%S').replace(\":\", \"_\")\n",
    "    else:\n",
    "        return datetime.datetime.now().strftime('%H:%M:%S')\n",
    "\n",
    "\n",
    "def count_files_in_directory(path: Union[str, 'LiteralString']) -> int:\n",
    "    \"\"\"\n",
    "    Counts the number of files in a given directory.\n",
    "\n",
    "    Parameters:\n",
    "    path (Union[str, 'LiteralString']): The file path to the directory whose contents are to be counted.\n",
    "\n",
    "    Raises:\n",
    "    ValueError: If path is not a directory or does not exist.\n",
    "\n",
    "    Returns:\n",
    "    int: The number of files in the specified directory.\n",
    "    \"\"\"\n",
    "    if not os.path.isdir(path):\n",
    "        raise ValueError(f\"{path} is not a directory.\")\n",
    "    return len(os.listdir(path))\n",
    "\n",
    "\n",
    "def plot_training_progress(train_acc: list,\n",
    "                           train_loss: list,\n",
    "                           val_acc: list,\n",
    "                           validation_loss: list,\n",
    "                           title=\"Model results\"):\n",
    "    \"\"\"\n",
    "    Plot training-vs-testing accuracy and loss for each epoch.\n",
    "    \n",
    "    Parameters:\n",
    "        train_acc (list): List of training accuracy values from each epoch, must be same length as val_acc\n",
    "        train_loss (list): List of training loss values from each epoch, must be same length as val_loss\n",
    "        val_acc (list): List of validation accuracy values from each epoch, must be same length as train_acc\n",
    "        validation_loss (list): List of validation loss values from each epoch, must be same length as train_loss\n",
    "        title (str): Plot title\n",
    "    \n",
    "    Raises:\n",
    "        ValueError: If the lengths of accuracy or loss lists don't match each other\n",
    "    \"\"\"\n",
    "    if not (len(train_acc) == len(val_acc) and len(train_loss) == len(val_loss)) and len(train_acc) > 0 and len(\n",
    "            train_loss) > 0:\n",
    "        raise ValueError(\"Lengths of training and validation lists must match\")\n",
    "    fig, axs = plt.subplots(1, 2, figsize=(12, 5))\n",
    "\n",
    "    axs[0].plot(train_acc,\n",
    "                label=\"Training accuracy\",\n",
    "                color=train_color,\n",
    "                linewidth=3)\n",
    "    axs[0].plot(val_acc,\n",
    "                label=\"Validation accuracy\",\n",
    "                color=val_color,\n",
    "                linewidth=3)\n",
    "    axs[0].set_title(\"Accuracy\")\n",
    "    axs[0].legend()\n",
    "\n",
    "    axs[1].plot(train_loss,\n",
    "                label=\"Training loss\",\n",
    "                color=train_color,\n",
    "                linewidth=3)\n",
    "    axs[1].plot(validation_loss,\n",
    "                label=\"Validation loss\",\n",
    "                color=val_color,\n",
    "                linewidth=3)\n",
    "    axs[1].set_title(\"Loss\")\n",
    "    axs[1].set(ylim=(0, None))\n",
    "    axs[1].legend()\n",
    "\n",
    "    fig.suptitle(title, fontsize=14, fontweight='bold')\n",
    "\n",
    "    plt.tight_layout()\n",
    "    plt.show()\n",
    "\n",
    "\n",
    "def label_images(csv_file: str, output_file: str):\n",
    "    \"\"\"\n",
    "    Reads images from a specified CSV file and allows the user to label them interactively.\n",
    "\n",
    "    This function opens each image specified in the CSV file and displays it to the user. \n",
    "    The user can then label the image as 'Female', 'Male', or 'Discard' by pressing the corresponding \n",
    "    keys ('f', 'm', 'd' or '0', '1', '2'). The function logs the user's decision along with the image \n",
    "    path and writes this data to an output file.\n",
    "\n",
    "    Parameters:\n",
    "    csv_file (str): Path to the CSV file containing the paths of the images to be labeled.\n",
    "    output_file (str): Path to the output CSV file where the image paths and labels will be saved.\n",
    "\n",
    "    Raises:\n",
    "    ValueError: If a key pressed is not among the specified keys ('f', 'm', 'd', '0', '1', '2').\n",
    "\n",
    "    Notes:\n",
    "    The function adds a text overlay to each image before displaying it, which indicates the keys \n",
    "    for labeling. If an image cannot be read, it logs the path with the label \"ERROR\".\n",
    "    \"\"\"\n",
    "    image_labels = []\n",
    "    image_files = pl.read_csv(csv_file).to_series().to_list()\n",
    "\n",
    "    for image_path in image_files:\n",
    "        image = cv2.imread(image_path)\n",
    "        if image is not None:\n",
    "            cv2.putText(image, \"'F'emale, 'M'ale, 'D'iscard\", (10, 30),\n",
    "                        cv2.FONT_HERSHEY_SIMPLEX, 1, (255, 255, 255), 2, cv2.LINE_AA)\n",
    "            cv2.imshow(\"Image\", image)\n",
    "\n",
    "            key = cv2.waitKey(0)  # Wait for a key press\n",
    "            if key == ord('0') or key == ord('f'):\n",
    "                image_labels.append((image_path, \"Female\"))\n",
    "            elif key == ord('1') or key == ord('m'):\n",
    "                image_labels.append((image_path, \"Male\"))\n",
    "            elif key == ord('2') or key == ord('d'):\n",
    "                image_labels.append((image_path, \"Discard\"))\n",
    "            else:\n",
    "                raise ValueError(\"Only allowed values are 0, 1, 2, f, m, and d\")\n",
    "            print(f\"Key pressed: {chr(key)}\")\n",
    "\n",
    "            cv2.destroyAllWindows()\n",
    "        else:\n",
    "            print(f\"Could not read image: {image_path}\")\n",
    "            image_labels.append((image_path, \"ERROR\"))\n",
    "\n",
    "    with open(output_file, 'w') as f:\n",
    "        for item in image_labels:\n",
    "            f.write(f\"{item[0]},{item[1]}\\n\")\n",
    "\n",
    "\n",
    "def calculate_normalization(custom_normalization: bool) -> Dict[str, List[float]]:\n",
    "    \"\"\"\n",
    "    Calculates the mean and standard deviation of the dataset for normalization.\n",
    "\n",
    "    Parameters:\n",
    "    custom_normalization (bool): Determines if custom normalization values are to be calculated.\n",
    "\n",
    "    Returns:\n",
    "    Dict[str, List[float]]: A dictionary containing 'mean' and 'std', each a list of three floats.\n",
    "\n",
    "    Notes:\n",
    "    Function uses global variables batch_size and data_dir.\n",
    "    \"\"\"\n",
    "    if custom_normalization:\n",
    "        tensor_transform = transforms.Compose([\n",
    "            transforms.Resize((512, 512)),\n",
    "            transforms.ToTensor()\n",
    "        ])\n",
    "\n",
    "        # Create a dataset without normalization\n",
    "        unnormalized_dataset = ImageFolder(os.path.join(data_dir, 'Labeled'), transform=tensor_transform)\n",
    "        unnormalized_loader = DataLoader(unnormalized_dataset, batch_size=batch_size, shuffle=True)\n",
    "\n",
    "        def calculate_mean_std(loader: DataLoader) -> (torch.Tensor, torch.Tensor):\n",
    "            \"\"\"\n",
    "            Calculate the mean and standard deviation of images in a DataLoader.\n",
    "        \n",
    "            Parameters:\n",
    "            loader (DataLoader): The DataLoader containing the dataset.\n",
    "        \n",
    "            Returns:\n",
    "            Tuple[torch.Tensor, torch.Tensor]: Mean and standard deviation tensors.\n",
    "            \"\"\"\n",
    "            mean_accumulator = 0.0\n",
    "            variance_accumulator = 0.0\n",
    "            for images, _ in loader:\n",
    "                batch_samples = images.size(0)\n",
    "                images = images.view(batch_samples, images.size(1), -1)\n",
    "                mean_accumulator += images.mean(2).sum(0)\n",
    "                variance_accumulator += images.var(2).sum(0)\n",
    "\n",
    "            mean_accumulator /= len(loader.dataset)\n",
    "            std_deviation = torch.sqrt(variance_accumulator / len(loader.dataset))\n",
    "            return mean_accumulator, std_deviation\n",
    "\n",
    "        dataset_mean, dataset_std = calculate_mean_std(unnormalized_loader)\n",
    "        normalization_dict = {'mean': dataset_mean.tolist(), 'std': dataset_std.tolist()}\n",
    "        del unnormalized_dataset, unnormalized_loader\n",
    "        print(f\"Custom normalization values: {normalization_dict}\")\n",
    "    else:\n",
    "        normalization_dict = {'mean': [0.485, 0.456, 0.406], 'std': [0.229, 0.224, 0.225]}\n",
    "        print(\"Standard normalization values used\")\n",
    "    return normalization_dict\n",
    "\n",
    "\n",
    "def display_images_from_dataloader(dataloader: DataLoader, num_images: int = 8):\n",
    "    \"\"\"\n",
    "    Fetches a batch of images from the given DataLoader and displays them to user.\n",
    "\n",
    "    Parameters:\n",
    "    dataloader (DataLoader): A PyTorch DataLoader object from which to fetch the images.\n",
    "    num_images (int): The number of images to display from the batch.\n",
    "    \"\"\"\n",
    "\n",
    "    def imshow(img: torch.Tensor):\n",
    "        \"\"\"\n",
    "        Display an image by denormalizing and clipping its values.\n",
    "\n",
    "        This function takes a PyTorch tensor representing a grid of images, which have been normalized \n",
    "        previously, and performs denormalization to convert them back to their original color \n",
    "        space. It then clips the image values to be within the range [0, 1] to ensure \n",
    "        proper display. The image is displayed using matplotlib.\n",
    "\n",
    "        Parameters:\n",
    "        img (torch.Tensor): A PyTorch tensor representing a grid of images.\n",
    "        \"\"\"\n",
    "        img = img.numpy().transpose((1, 2, 0))\n",
    "        img = normalization_values['std'] * img + normalization_values['mean']  # Denormalize\n",
    "        img = np.clip(img, 0, 1)  # Clip values to be between 0 and 1\n",
    "        plt.imshow(img)\n",
    "        plt.xticks([])\n",
    "        plt.yticks([])\n",
    "        plt.show()\n",
    "\n",
    "    num_images = min(batch_size, num_images)\n",
    "    dataset_images, dataset_labels = next(iter(dataloader))\n",
    "    images_subset = dataset_images[:num_images]\n",
    "    imshow(torchvision.utils.make_grid(images_subset))\n",
    "    print(' '.join(f'{classes[dataset_labels[j]]:5s}' for j in range(num_images)))\n",
    "\n",
    "\n",
    "def predict_model_resnet(my_dataloader):\n",
    "    \"\"\"\n",
    "    Performs predictions using a ResNet model on a given dataloader.\n",
    "    \n",
    "    This function runs the ResNet model in evaluation mode and generates predictions for the input data. \n",
    "    It requires the dataloader to have a batch size of exactly 1. The function outputs a dataframe \n",
    "    with file paths, actual labels, predicted labels, probabilities of being female, and a flag indicating \n",
    "    correct predictions.\n",
    "    \n",
    "    Note: The sorting logic in the function is based on the condition of correct predictions and their confidence scores.\n",
    "    \n",
    "    Parameters:\n",
    "    my_dataloader (Dataloader): A PyTorch Dataloader object containing the data to be predicted. \n",
    "                                 The dataloader must have a batch size of 1.\n",
    "    \n",
    "    Raises:\n",
    "    ValueError: If the dataloader's batch size is not 1.\n",
    "    \n",
    "    Returns:\n",
    "    Polars.DataFrame: A dataframe containing columns for file paths, labels, predictions, \n",
    "                      probabilities, and correct predictions.\n",
    "    \"\"\"\n",
    "    if my_dataloader.batch_size != 1:\n",
    "        raise ValueError(\"Predictions dataloader requires batch size of exactly 1\")\n",
    "    model_resnet.eval()\n",
    "    prediction_results = pl.DataFrame(schema={\"file_path\": str, \"label\": int, \"prediction\": int, \"prob_female\": float})\n",
    "    with torch.no_grad():\n",
    "        for i, (inputs, labels) in enumerate(my_dataloader):\n",
    "            inputs, labels = inputs.to(device), labels.to(device)\n",
    "            outputs = model_resnet(inputs)\n",
    "            _, predicted = torch.max(outputs.data, 1)\n",
    "            prob_female = torch.nn.functional.softmax(outputs, dim=1)[:, 0].tolist()\n",
    "            predicted = predicted.tolist()\n",
    "            labels = labels.tolist()\n",
    "            file_paths = my_dataloader.dataset.samples[i][0]\n",
    "            batch_results = pl.DataFrame({\"file_path\": file_paths,\n",
    "                                          \"label\": labels,\n",
    "                                          \"prediction\": predicted,\n",
    "                                          \"prob_female\": prob_female})\n",
    "            prediction_results = pl.concat([prediction_results, batch_results], how=\"vertical_relaxed\")\n",
    "        prediction_results = prediction_results.with_columns(\n",
    "            (1 * (pl.col(\"label\") == pl.col(\"prediction\"))).alias(\"correct_prediction\")\n",
    "        )\n",
    "        # I couldn't figure out the sorting logic so I asked SO\n",
    "        # https://stackoverflow.com/questions/77700489/how-to-perform-a-conditional-sort-in-polars/77700711\n",
    "        prediction_results = prediction_results.with_columns(\n",
    "            abs(pl.col(\"prob_female\") - 0.5).alias(\"confidence\")\n",
    "        ).sort([\n",
    "            (good_prediction := pl.col('label').eq(pl.col('prediction'))),\n",
    "            (good_prediction - 1) * pl.col('confidence'),\n",
    "            pl.col('confidence')\n",
    "        ])\n",
    "        return prediction_results\n",
    "\n",
    "\n",
    "# Classes\n",
    "class ImbalancedClassesException(ValueError):\n",
    "    \"\"\"Exception raised when classes must be perfectly balanced and are not.\"\"\""
   ],
   "metadata": {
    "collapsed": false,
    "ExecuteTime": {
     "end_time": "2024-01-03T15:22:52.301652200Z",
     "start_time": "2024-01-03T15:22:52.256501900Z"
    }
   },
   "id": "e06b185676f25570"
  },
  {
   "cell_type": "code",
   "execution_count": 4,
   "outputs": [],
   "source": [
    "# Config variables\n",
    "train_color: str = \"#ffffb3\"\n",
    "val_color: str = \"#bebada\"\n",
    "unlabeled_color = \"orange\"\n",
    "data_dir: str = 'H:/Photos/AI/'\n",
    "batch_size: int = 30\n",
    "classes: tuple[str, str] = ('Female', 'Male')\n",
    "# TODO: Change before training\n",
    "use_custom_normalization: bool = False\n",
    "num_epochs: int = 2"
   ],
   "metadata": {
    "collapsed": false,
    "ExecuteTime": {
     "end_time": "2024-01-03T15:22:55.293339400Z",
     "start_time": "2024-01-03T15:22:55.264894400Z"
    }
   },
   "id": "de3758e1d8c9c592"
  },
  {
   "cell_type": "code",
   "execution_count": 5,
   "id": "dc29b10a77bd6120",
   "metadata": {
    "collapsed": false,
    "ExecuteTime": {
     "end_time": "2024-01-03T15:22:57.291696500Z",
     "start_time": "2024-01-03T15:22:57.048050900Z"
    }
   },
   "outputs": [
    {
     "data": {
      "text/plain": "<Figure size 640x480 with 1 Axes>",
      "image/png": "[encoded data removed]"
     },
     "metadata": {},
     "output_type": "display_data"
    }
   ],
   "source": [
    "# Count the number of images in each training folder and throw exception if imbalanced\n",
    "file_counts = {category: {gender: count_files_in_directory(\n",
    "    os.path.join(data_dir, category, gender))\n",
    "    for gender in classes}\n",
    "    for category in ['Labeled', 'Holdout']}\n",
    "file_counts.update({'Unlabeled': count_files_in_directory(os.path.join(data_dir, \"Unlabeled/Unlabeled\"))})\n",
    "\n",
    "fig, ax = plt.subplots()\n",
    "ax.bar(['Training\\nFemale', 'Training\\nMale',\n",
    "        'Holdout\\nFemale', 'Holdout\\nMale',\n",
    "        'Unlabeled'],\n",
    "       [file_counts['Labeled']['Female'],\n",
    "        file_counts['Labeled']['Male'],\n",
    "        file_counts['Holdout']['Female'],\n",
    "        file_counts['Holdout']['Male'],\n",
    "        file_counts['Unlabeled']],\n",
    "       color=[train_color, train_color, val_color, val_color, unlabeled_color])\n",
    "plt.xticks(rotation=45)\n",
    "plt.title(\"Training and validation image counts\")\n",
    "plt.show()\n",
    "\n",
    "if file_counts['Labeled']['Female'] != file_counts['Labeled']['Male']:\n",
    "    female_count = file_counts['Labeled']['Female']\n",
    "    male_count = file_counts['Labeled']['Male']\n",
    "    raise ImbalancedClassesException(\n",
    "        f'Imbalance detected: {female_count} female images vs {male_count} male images')"
   ]
  },
  {
   "cell_type": "code",
   "execution_count": 6,
   "outputs": [
    {
     "name": "stdout",
     "output_type": "stream",
     "text": [
      "Standard normalization values used\n"
     ]
    }
   ],
   "source": [
    "normalization_values = calculate_normalization(use_custom_normalization)"
   ],
   "metadata": {
    "collapsed": false,
    "ExecuteTime": {
     "end_time": "2024-01-03T15:23:00.798123500Z",
     "start_time": "2024-01-03T15:23:00.766228900Z"
    }
   },
   "id": "2774d1fcab1bba50"
  },
  {
   "cell_type": "code",
   "execution_count": 7,
   "outputs": [],
   "source": [
    "# Load train/test images in Pytorch format\n",
    "transformations = transforms.Compose([\n",
    "    transforms.Resize((512, 512)),  # Images are already 512x512 but it's good to be sure\n",
    "    transforms.ToTensor(),\n",
    "    transforms.Normalize(mean=normalization_values['mean'], std=normalization_values['std'])\n",
    "])\n",
    "\n",
    "train_dataset = ImageFolder(os.path.join(data_dir, 'Labeled'), transform=transformations)\n",
    "train_loader = DataLoader(train_dataset, batch_size=batch_size, shuffle=True)\n",
    "val_dataset = ImageFolder(os.path.join(data_dir, 'Holdout'), transform=transformations)\n",
    "val_loader = DataLoader(val_dataset, batch_size=batch_size, shuffle=False)"
   ],
   "metadata": {
    "collapsed": true,
    "ExecuteTime": {
     "end_time": "2024-01-03T15:23:05.490603900Z",
     "start_time": "2024-01-03T15:23:05.357443400Z"
    }
   },
   "id": "initial_id"
  },
  {
   "cell_type": "code",
   "execution_count": null,
   "outputs": [],
   "source": [
    "display_images_from_dataloader(train_loader, num_images=16)"
   ],
   "metadata": {
    "collapsed": false
   },
   "id": "df8bb591a7e6b7cf"
  },
  {
   "cell_type": "markdown",
   "source": [
    "# ResNet model"
   ],
   "metadata": {
    "collapsed": false
   },
   "id": "5734761e01a6b298"
  },
  {
   "cell_type": "code",
   "execution_count": null,
   "outputs": [],
   "source": [
    "# Load a pre-trained ResNet model\n",
    "model_resnet = models.resnet50(weights=ResNet50_Weights.IMAGENET1K_V1)\n",
    "\n",
    "# Freeze the layers except the final layer\n",
    "for param in model_resnet.parameters():\n",
    "    param.requires_grad = False\n",
    "\n",
    "# Replace the last fully connected layer for binary classification\n",
    "num_features = model_resnet.fc.in_features\n",
    "model_resnet.fc = nn.Linear(num_features, 2)\n",
    "\n",
    "# Move model_resnet to GPU (if available)\n",
    "device = torch.device(\"cuda:0\" if torch.cuda.is_available() else \"cpu\")\n",
    "model_resnet = model_resnet.to(device)\n",
    "\n",
    "# Loss function for binary classification\n",
    "criterion = nn.CrossEntropyLoss()\n",
    "\n",
    "# Optimize the parameters of the final layer\n",
    "optimizer = optim.Adam(model_resnet.fc.parameters(), lr=0.001)"
   ],
   "metadata": {
    "collapsed": false
   },
   "id": "154b6f22a12e1b9f"
  },
  {
   "cell_type": "code",
   "execution_count": null,
   "outputs": [],
   "source": [
    "resnet_train_epoch_loss = []\n",
    "resnet_train_epoch_accuracy = []\n",
    "resnet_validation_epoch_loss = []\n",
    "resnet_validation_epoch_accuracy = []\n",
    "\n",
    "# Fine-tune the ResNet model\n",
    "for epoch in range(num_epochs):\n",
    "    model_resnet.train()\n",
    "    print(f\"Epoch {epoch + 1} initiated ({current_time_only()})\")\n",
    "    running_loss = 0.0\n",
    "    correct_train = 0\n",
    "    total_train = 0\n",
    "    for i, data in enumerate(train_loader, 0):\n",
    "        if i % 250 == 0:\n",
    "            print(f\"Training batch {i + 1}/{len(train_loader)} ({current_time_only()})\")\n",
    "        inputs, labels = data\n",
    "        inputs, labels = inputs.to(device), labels.to(device)\n",
    "        optimizer.zero_grad()\n",
    "        outputs = model_resnet(inputs)\n",
    "        loss = criterion(outputs, labels)\n",
    "        loss.backward()\n",
    "        optimizer.step()\n",
    "        running_loss += loss.item()\n",
    "        _, predicted = torch.max(outputs.data, 1)\n",
    "        total_train += labels.size(0)\n",
    "        correct_train += (predicted == labels).sum().item()\n",
    "    resnet_train_epoch_loss.append(running_loss / len(train_loader))\n",
    "    resnet_train_epoch_accuracy.append(correct_train / total_train)\n",
    "\n",
    "    # Validation\n",
    "    model_resnet.eval()\n",
    "    val_loss = 0.0\n",
    "    correct = 0\n",
    "    total = 0\n",
    "    with torch.no_grad():\n",
    "        print(f\"Validation started ({current_time_only()})\")\n",
    "        for inputs, labels in val_loader:\n",
    "            inputs, labels = inputs.to(device), labels.to(device)\n",
    "            outputs = model_resnet(inputs)\n",
    "            loss = criterion(outputs, labels)\n",
    "            val_loss += loss.item()\n",
    "            _, predicted = torch.max(outputs.data, 1)\n",
    "            total += labels.size(0)\n",
    "            correct += (predicted == labels).sum().item()\n",
    "\n",
    "    # Calculate and store the validation loss and accuracy for the epoch\n",
    "    epoch_val_loss = val_loss / len(val_loader)\n",
    "    epoch_val_accuracy = correct / total\n",
    "    resnet_validation_epoch_loss.append(epoch_val_loss)\n",
    "    resnet_validation_epoch_accuracy.append(epoch_val_accuracy)\n",
    "\n",
    "    print(\"\\n\" + \"*\" * 50)\n",
    "    print(f\"{'*' * 10} EPOCH {epoch + 1} RESULTS {'*' * 10}\".center(50))\n",
    "    print(\"*\" * 50)\n",
    "    print(f'\\033[94mTrain Loss: {running_loss / len(train_loader):.3f}\\033[0m, '\n",
    "          f'\\033[92mValidation Loss: {epoch_val_loss:.3f}\\033[0m, '\n",
    "          f'\\033[93mTraining Accuracy: {100 * correct_train / total_train:.2f}%\\033[0m, '\n",
    "          f'\\033[91mValidation Accuracy: {100 * epoch_val_accuracy:.2f}%\\033[0m')\n",
    "    print(\"*\" * 50 + \"\\n\")\n",
    "\n",
    "print(f'Finished Training ({current_time_only()})')"
   ],
   "metadata": {
    "collapsed": false
   },
   "id": "a91ff7e6685697f"
  },
  {
   "cell_type": "code",
   "execution_count": null,
   "outputs": [],
   "source": [
    "plot_training_progress(train_acc=resnet_train_epoch_accuracy,\n",
    "                       train_loss=resnet_train_epoch_loss,\n",
    "                       val_acc=resnet_validation_epoch_accuracy,\n",
    "                       val_loss=resnet_validation_epoch_loss,\n",
    "                       title=\"Fine-tuned model results\")"
   ],
   "metadata": {
    "collapsed": false
   },
   "id": "618d925dcbba56e7"
  },
  {
   "cell_type": "code",
   "execution_count": null,
   "outputs": [],
   "source": [
    "exploration_loader = DataLoader(val_dataset, batch_size=1, shuffle=False)\n",
    "exploration_results = predict_model_resnet(exploration_loader)"
   ],
   "metadata": {
    "collapsed": false
   },
   "id": "1f22dbf89b4f4c49"
  },
  {
   "cell_type": "code",
   "execution_count": null,
   "outputs": [],
   "source": [
    "fig, ax = plt.subplots()\n",
    "ax.pie([exploration_results.select(pl.mean(\"correct_prediction\")).to_series().to_list()[0],\n",
    "        1 - exploration_results.select(pl.mean(\"correct_prediction\")).to_series().to_list()[0]],\n",
    "       labels=[\"Correct\", \"Incorrect\"],\n",
    "       autopct=\"%1.1f%%\",\n",
    "       colors=[\"#76ffbf\", \"#ff8876\"])\n",
    "plt.title(\"Cross-validated accuracy\")\n",
    "plt.show()"
   ],
   "metadata": {
    "collapsed": false
   },
   "id": "cac48ac782a5ae24"
  },
  {
   "cell_type": "code",
   "execution_count": null,
   "outputs": [],
   "source": [
    "idx_to_class = {v: k for k, v in val_dataset.class_to_idx.items()}\n",
    "\n",
    "accuracy_by_gender = (exploration_results.select([\"label\", \"correct_prediction\"])\n",
    ".group_by(\"label\")\n",
    ".mean()\n",
    ".with_columns(\n",
    "    pl.col(\"label\").replace(idx_to_class)\n",
    "))\n",
    "\n",
    "fig, ax = plt.subplots()\n",
    "ax.bar(list(zip(*accuracy_by_gender.rows()))[0], list(zip(*accuracy_by_gender.rows()))[1], color=\"#76ffbf\")\n",
    "plt.title(\"Accuracy by gender\")\n",
    "ax.yaxis.set_major_formatter(matplotlib.ticker.PercentFormatter(xmax=1))\n",
    "\n",
    "plt.show()"
   ],
   "metadata": {
    "collapsed": false
   },
   "id": "ed7fa36ce328c292"
  },
  {
   "cell_type": "markdown",
   "source": [
    "# Next steps\n",
    "* Move incorrect and low-confidence images to separate folder for review\n",
    "* Retrain model as needed\n",
    "* Predict gender for all unlabeled images\n",
    "* Add column for occupation\n",
    "* Move low-confidence predictions to review folder\n",
    "* Group gender breakdowns by occupation\n",
    "* Compare gender breakdowns to BLS data\n",
    "* Plot scatterplot comparing breakdowns (SD vs. BLS)\n",
    "* Write the paper "
   ],
   "metadata": {
    "collapsed": false
   },
   "id": "5a6f0e2673b1dda2"
  },
  {
   "cell_type": "code",
   "execution_count": null,
   "outputs": [],
   "source": [
    "unlabeled_dataset = ImageFolder(os.path.join(data_dir, 'Unlabeled'), transform=tensor_transform)\n",
    "unlabeled_loader = DataLoader(unlabeled_dataset, batch_size=1, shuffle=False)\n",
    "\n",
    "unlabeled_predictions = predict_model_resnet(unlabeled_loader)\n",
    "unlabeled_predictions.drop([\"label\", \"correct_prediction\"])\n",
    "unlabeled_predictions = unlabeled_predictions.with_columns(\n",
    "    pl.col(\"file_path\").str.extract(\"(?:[^_]*_){4}([^_]*)_\").alias(\"occupation\")\n",
    ")"
   ],
   "metadata": {
    "collapsed": false
   },
   "id": "1d4025090c232e05"
  },
  {
   "cell_type": "code",
   "execution_count": null,
   "outputs": [],
   "source": [
    "unlabeled_predictions.sort(\"confidence\", descending=True).head(6).to_series(0)\n",
    "\n",
    "for img_path in unlabeled_predictions.sort(\"confidence\", descending=True).head(6).to_series(0):\n",
    "    img = PIL.Image.open(img_path)\n",
    "    display(PIL.Image.open(img_path).resize((256, 256)))\n"
   ],
   "metadata": {
    "collapsed": false
   },
   "id": "605989ac63bb83a7"
  },
  {
   "cell_type": "code",
   "execution_count": null,
   "outputs": [],
   "source": [
    "(unlabeled_predictions.\n",
    " select([\"occupation\", \"prediction\"]).\n",
    " group_by(\"occupation\").\n",
    " mean().\n",
    " sort(\"prediction\", descending=True))"
   ],
   "metadata": {
    "collapsed": false
   },
   "id": "85dcff2aa006686"
  },
  {
   "cell_type": "code",
   "execution_count": null,
   "outputs": [],
   "source": [
    "unlabeled_predictions.head()"
   ],
   "metadata": {
    "collapsed": false
   },
   "id": "c57ccc73a72b4be"
  },
  {
   "cell_type": "code",
   "execution_count": null,
   "outputs": [],
   "source": [
    "# TODO: Save all low-confidence images\n",
    "unlabeled_predictions.sort(\"confidence\").head(10).select(\"file_path\").write_csv(\"unlabeled_path_test.csv\")"
   ],
   "metadata": {
    "collapsed": false
   },
   "id": "36d6ec9ceb76741b"
  },
  {
   "cell_type": "code",
   "execution_count": null,
   "outputs": [],
   "source": [
    "label_images(\"unlabeled_path_test.csv\", \"labels.csv\")"
   ],
   "metadata": {
    "collapsed": false
   },
   "id": "86962fd28671072e"
  },
  {
   "cell_type": "markdown",
   "source": [
    "# Manual review\n",
    "* Classify and move low-confidence and incorrect training images within training directory\n",
    "* Classify and move low-confidence and incorrect holdout images within holdout directory\n",
    "* Report holdout classification accuracy by occupation and gender\n",
    "* Classify low-confidence unlabeled images and copy them to the training directory\n",
    "* Make sure training classes remain balanced\n",
    "* Classify a random sample of holdout images to assess model accuracy and inter-rater bias"
   ],
   "metadata": {
    "collapsed": false
   },
   "id": "c5d64efeb4cc8e19"
  },
  {
   "cell_type": "code",
   "execution_count": null,
   "outputs": [],
   "source": [],
   "metadata": {
    "collapsed": false
   },
   "id": "f48f21c45ca8bf4a"
  }
 ],
 "metadata": {
  "kernelspec": {
   "display_name": "Python 3",
   "language": "python",
   "name": "python3"
  },
  "language_info": {
   "codemirror_mode": {
    "name": "ipython",
    "version": 2
   },
   "file_extension": ".py",
   "mimetype": "text/x-python",
   "name": "python",
   "nbconvert_exporter": "python",
   "pygments_lexer": "ipython2",
   "version": "2.7.6"
  }
 },
 "nbformat": 4,
 "nbformat_minor": 5
}
